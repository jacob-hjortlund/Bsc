{
 "cells": [
  {
   "cell_type": "code",
   "execution_count": 1,
   "metadata": {
    "ExecuteTime": {
     "end_time": "2020-03-06T16:48:23.432699Z",
     "start_time": "2020-03-06T16:48:23.177559Z"
    }
   },
   "outputs": [],
   "source": [
    "import numpy as np\n",
    "import matplotlib.pyplot as plt\n",
    "import log_bessel as lb\n",
    "from scipy.integrate import quad"
   ]
  },
  {
   "cell_type": "markdown",
   "metadata": {},
   "source": [
    "# TESTS"
   ]
  },
  {
   "cell_type": "code",
   "execution_count": 2,
   "metadata": {
    "ExecuteTime": {
     "end_time": "2020-03-06T16:34:43.740633Z",
     "start_time": "2020-03-06T16:34:43.730746Z"
    }
   },
   "outputs": [],
   "source": [
    "v_to_test = np.array([0,3.15e-7, 2.62e-6, 1.3e-5, 9.2e-5, 0.0026,\n",
    "                      0.0843, 0.17345, 1, 1.63, 7.42, 42.42424, 86.5,\n",
    "                      113.8, 148.7565, 180.6, 246.3, 300.5, 513.6,\n",
    "                      712.456, 714.456, 1235.6,8656, 15330.75,\n",
    "                      37634.2 ,85323])\n",
    "\n",
    "z_to_test = np.array([1.48e-7, 3.6e-6, 7.248e-5, 4.32e-4, 8.7e-3, 0.04523, 0.17532,\n",
    "                      1, 3, 11.32465, 105.6, 1038.4, 4236, 11457.6, 62384, 105321.6,\n",
    "                      158742.3, 196754,  1.98e6])"
   ]
  },
  {
   "cell_type": "code",
   "execution_count": 8,
   "metadata": {
    "ExecuteTime": {
     "end_time": "2020-03-06T16:53:58.309337Z",
     "start_time": "2020-03-06T16:53:58.277319Z"
    },
    "code_folding": []
   },
   "outputs": [],
   "source": [
    "def logdiffexp(x1,x2):\n",
    "    \n",
    "    return x1+np.log1p(-np.exp(-(x1-x2)))\n",
    "\n",
    "def forward_recursion(v,z):\n",
    "    \n",
    "    first = lb.log_bessel_k(v+2,z)[0]\n",
    "    second = np.log(2) + np.log(v+1) - np.log(z) + lb.log_bessel_k(v+1,z)[0]\n",
    "    \n",
    "    return logdiffexp(first,second)\n",
    "\n",
    "def backward_recursion(v, z):\n",
    "    \n",
    "    first = lb.log_bessel_k(v-2, z)[0]\n",
    "    second = np.log(2)+np.log(v-1)-np.log(z)+lb.log_bessel_k(v-1, z)[0]\n",
    "    \n",
    "    return np.logaddexp(first, second)\n",
    "\n",
    "def recursion_test(v, z):\n",
    "    \n",
    "    rhs = np.zeros(np.shape(v))\n",
    "    \n",
    "    i_forward = v <= 1\n",
    "    i_backward = v > 1\n",
    "    \n",
    "    rhs[i_forward] = forward_recursion(v[i_forward], z)\n",
    "    rhs[i_backward] = backward_recursion(v[i_backward], z)\n",
    "    \n",
    "    lhs = lb.log_bessel_k(v, z)[0]\n",
    "    \n",
    "    return lhs/rhs"
   ]
  },
  {
   "cell_type": "code",
   "execution_count": 2,
   "metadata": {
    "ExecuteTime": {
     "end_time": "2020-03-06T16:48:44.233525Z",
     "start_time": "2020-03-06T16:48:44.220703Z"
    }
   },
   "outputs": [],
   "source": [
    "v = np.array([0.003, 1.2, 2, 2.8])\n",
    "z = np.array([0.01, 11, 152])\n",
    "\n"
   ]
  },
  {
   "cell_type": "code",
   "execution_count": 9,
   "metadata": {
    "ExecuteTime": {
     "end_time": "2020-03-06T16:55:07.889755Z",
     "start_time": "2020-03-06T16:55:07.802681Z"
    }
   },
   "outputs": [
    {
     "data": {
      "text/plain": [
       "array([0.99999999, 1.        , 1.        , 1.        ])"
      ]
     },
     "metadata": {},
     "output_type": "display_data"
    },
    {
     "data": {
      "text/plain": [
       "array([1., 1., 1., 1.])"
      ]
     },
     "metadata": {},
     "output_type": "display_data"
    },
    {
     "data": {
      "text/plain": [
       "array([1., 1., 1., 1.])"
      ]
     },
     "metadata": {},
     "output_type": "display_data"
    }
   ],
   "source": [
    "for z_tmp in z:\n",
    "    \n",
    "    \n",
    "    res = np.zeros(len(v))\n",
    "    \n",
    "    i_forward = v <= 1\n",
    "    i_backward = ~i_forward\n",
    "    \n",
    "    first_back = lb.gamma_integral(v[i_backward]-2,z_tmp)\n",
    "    second_back = np.log(2)+np.log(v[i_backward]-1)-np.log(z_tmp)+lb.gamma_integral(v[i_backward]-1,z_tmp)\n",
    "    \n",
    "    first_forw = lb.gamma_integral(v[i_forward]+2,z_tmp)\n",
    "    second_forw = np.log(2)+np.log(v[i_forward]+1)-np.log(z_tmp)+lb.gamma_integral(v[i_forward]+1,z_tmp)\n",
    "\n",
    "    rhs_back = np.logaddexp(first_back,second_back)\n",
    "    lhs_back = lb.gamma_integral(v[i_backward], z_tmp)\n",
    "\n",
    "    rhs_forw = logdiffexp(first_forw, second_forw)\n",
    "    lhs_forw = lb.gamma_integral(v[i_forward], z_tmp)\n",
    "    \n",
    "    res[i_backward] = lhs_back/rhs_back\n",
    "    res[i_forward] = lhs_forw/rhs_forw\n",
    "    \n",
    "    display(res)"
   ]
  },
  {
   "cell_type": "code",
   "execution_count": null,
   "metadata": {},
   "outputs": [],
   "source": []
  }
 ],
 "metadata": {
  "hide_input": false,
  "kernelspec": {
   "display_name": "Python 3",
   "language": "python",
   "name": "python3"
  },
  "language_info": {
   "codemirror_mode": {
    "name": "ipython",
    "version": 3
   },
   "file_extension": ".py",
   "mimetype": "text/x-python",
   "name": "python",
   "nbconvert_exporter": "python",
   "pygments_lexer": "ipython3",
   "version": "3.7.6"
  },
  "varInspector": {
   "cols": {
    "lenName": 16,
    "lenType": 16,
    "lenVar": 40
   },
   "kernels_config": {
    "python": {
     "delete_cmd_postfix": "",
     "delete_cmd_prefix": "del ",
     "library": "var_list.py",
     "varRefreshCmd": "print(var_dic_list())"
    },
    "r": {
     "delete_cmd_postfix": ") ",
     "delete_cmd_prefix": "rm(",
     "library": "var_list.r",
     "varRefreshCmd": "cat(var_dic_list()) "
    }
   },
   "types_to_exclude": [
    "module",
    "function",
    "builtin_function_or_method",
    "instance",
    "_Feature"
   ],
   "window_display": false
  }
 },
 "nbformat": 4,
 "nbformat_minor": 4
}
