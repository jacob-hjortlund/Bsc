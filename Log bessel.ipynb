{
 "cells": [
  {
   "cell_type": "code",
   "execution_count": 1,
   "metadata": {
    "ExecuteTime": {
     "end_time": "2020-03-11T23:24:52.764877Z",
     "start_time": "2020-03-11T23:24:52.358577Z"
    }
   },
   "outputs": [],
   "source": [
    "import numpy as np\n",
    "import matplotlib.pyplot as plt\n",
    "import log_bessel as lb\n",
    "from scipy.integrate import quad, fixed_quad\n",
    "from scipy.special import kv\n",
    "\n",
    "params = {'xtick.labelsize': 16,\n",
    "          'ytick.labelsize': 16,\n",
    "          'legend.fontsize': 16,\n",
    "          'font.size': 16,\n",
    "          'legend.fancybox': True,\n",
    "          'axes.grid': True}\n",
    "\n",
    "plt.rcParams.update(params)"
   ]
  },
  {
   "cell_type": "markdown",
   "metadata": {},
   "source": [
    "# SciPy function bounds test"
   ]
  },
  {
   "cell_type": "code",
   "execution_count": 2,
   "metadata": {
    "ExecuteTime": {
     "end_time": "2020-03-11T21:19:27.684214Z",
     "start_time": "2020-03-11T21:19:27.672716Z"
    }
   },
   "outputs": [],
   "source": [
    "v_to_test = np.logspace(-5, np.log10(5000), 5000)\n",
    "z_to_test = np.logspace(-5, np.log10(5000), 5000)\n",
    "\n",
    "res = np.zeros((5000,5000))\n",
    "\n",
    "def function_test(v):\n",
    "    \n",
    "    return np.log(kv(v, z_to_test))"
   ]
  },
  {
   "cell_type": "code",
   "execution_count": 4,
   "metadata": {
    "ExecuteTime": {
     "end_time": "2020-03-11T17:27:19.935085Z",
     "start_time": "2020-03-11T17:27:10.188004Z"
    }
   },
   "outputs": [
    {
     "name": "stderr",
     "output_type": "stream",
     "text": [
      "/home/jacob/anaconda3/envs/pulsar_timing/lib/python3.7/site-packages/ipykernel_launcher.py:8: RuntimeWarning: divide by zero encountered in log\n",
      "  \n"
     ]
    }
   ],
   "source": [
    "for i in range(5000):\n",
    "    \n",
    "    res[i] = function_test(v_to_test[i])"
   ]
  },
  {
   "cell_type": "code",
   "execution_count": 5,
   "metadata": {
    "ExecuteTime": {
     "end_time": "2020-03-11T17:28:03.584521Z",
     "start_time": "2020-03-11T17:27:20.126443Z"
    }
   },
   "outputs": [
    {
     "data": {
      "image/png": "[encoded data removed]",
      "text/plain": [
       "<Figure size 432x288 with 2 Axes>"
      ]
     },
     "metadata": {
      "needs_background": "light"
     },
     "output_type": "display_data"
    }
   ],
   "source": [
    "plt.yscale('log', basey=10)\n",
    "plt.xscale('log', basex=10)\n",
    "\n",
    "zz, vv = np.meshgrid(z_to_test,v_to_test)\n",
    "err = plt.pcolormesh(zz, vv, res) #\n",
    "plt.colorbar(err)\n",
    "plt.plot(z_to_test[z_to_test<=700], 127 * z_to_test[z_to_test<=700]**0.1, c='r')\n",
    "\n",
    "plt.vlines(700, ymin=1E-5, ymax=(127 * z_to_test[z_to_test<=700]**0.1)[-1], color='r')\n",
    "plt.xlabel('z')\n",
    "plt.ylabel(r'$\\nu$')\n",
    "plt.tight_layout()\n",
    "plt.savefig('Plots/scipy_bessel_bounds.png')"
   ]
  },
  {
   "cell_type": "code",
   "execution_count": 6,
   "metadata": {
    "ExecuteTime": {
     "end_time": "2020-03-11T17:29:35.100159Z",
     "start_time": "2020-03-11T17:29:35.040969Z"
    }
   },
   "outputs": [
    {
     "name": "stdout",
     "output_type": "stream",
     "text": [
      "No. of infs on full z range\n",
      "478\n",
      "\n",
      "\n",
      "No. of infs with z_max=700\n",
      "0\n",
      "\n",
      "\n",
      "No. of infs with z_max=650\n",
      "0\n",
      "\n",
      "\n"
     ]
    },
    {
     "name": "stderr",
     "output_type": "stream",
     "text": [
      "/home/jacob/anaconda3/envs/pulsar_timing/lib/python3.7/site-packages/ipykernel_launcher.py:7: RuntimeWarning: divide by zero encountered in log\n",
      "  import sys\n"
     ]
    }
   ],
   "source": [
    "v_to_test2 = 127*z_to_test**0.1\n",
    "\n",
    "res2 = np.zeros(5000)\n",
    "\n",
    "for i in range(5000):\n",
    "    \n",
    "    res2[i] = np.log(kv(v_to_test2[i], z_to_test[i]))\n",
    "\n",
    "res2_abs = np.abs(res2)\n",
    "\n",
    "print('No. of infs on full z range')\n",
    "print(np.count_nonzero(res2_abs==np.inf))\n",
    "print('\\n')\n",
    "\n",
    "z_max_1 = 700\n",
    "print(f'No. of infs with z_max={z_max_1}')\n",
    "print(np.count_nonzero(res2_abs[z_to_test<=z_max_1]==np.inf))\n",
    "print('\\n')\n",
    "\n",
    "z_max_2 = 650\n",
    "print(f'No. of infs with z_max={z_max_2}')\n",
    "print(np.count_nonzero(res2_abs[z_to_test<=z_max_2]==np.inf))\n",
    "print('\\n')"
   ]
  },
  {
   "cell_type": "markdown",
   "metadata": {},
   "source": [
    "# Method regimes plot"
   ]
  },
  {
   "cell_type": "code",
   "execution_count": 2,
   "metadata": {
    "ExecuteTime": {
     "end_time": "2020-03-11T23:24:56.538542Z",
     "start_time": "2020-03-11T23:24:56.509378Z"
    }
   },
   "outputs": [],
   "source": [
    "def scipy_bound(z):\n",
    "    \n",
    "    return 127*z**0.1\n",
    "\n",
    "def rothwell_bound(z):\n",
    "    \n",
    "    b1 = 300 / (np.log(z)+np.log(2)) + 0.5\n",
    "    b2 = 0.5\n",
    "    \n",
    "    b1[b1>50] = np.nan\n",
    "    \n",
    "    return b1\n",
    "\n",
    "def trap_bound_upper(z):\n",
    "    \n",
    "    asymp_v_slope = 1\n",
    "    asymp_v_intercept = 8\n",
    "    \n",
    "    return np.exp(asymp_v_intercept)*z**asymp_v_slope\n",
    "\n",
    "def trap_bound_lower(z):\n",
    "    \n",
    "    asymp_z_slope = 1\n",
    "    asymp_z_intercept = -3\n",
    "    \n",
    "    bounds = np.ones(len(z))*100\n",
    "    b1 = z\n",
    "    b2 = np.exp(asymp_z_intercept)*z**asymp_z_slope\n",
    "    \n",
    "    i_b2 = b2>100\n",
    "    bounds[i_b2] = b2[i_b2]\n",
    "    \n",
    "    i_b1 = b1 < 100\n",
    "    bounds[i_b1] = b1[i_b1]\n",
    "    \n",
    "    return bounds\n",
    "\n",
    "def asymp_v_bound(z):\n",
    "    \n",
    "    b1 = scipy_bound(z)\n",
    "    b2 = trap_bound_upper(z)\n",
    "    \n",
    "    i = b2>b1\n",
    "    b1[i] = b2[i]\n",
    "    \n",
    "    return b1\n",
    "\n",
    "def trap_lower_plot(z):\n",
    "    \n",
    "    b1 = scipy_bound(z)\n",
    "    b2 = trap_bound_lower(z[z>7E2])\n",
    "    \n",
    "    b1[z>7E2] = b2\n",
    "    \n",
    "    return b1"
   ]
  },
  {
   "cell_type": "code",
   "execution_count": 3,
   "metadata": {
    "ExecuteTime": {
     "end_time": "2020-03-11T23:25:17.040889Z",
     "start_time": "2020-03-11T23:25:17.020491Z"
    }
   },
   "outputs": [],
   "source": [
    "logmin = -5\n",
    "logmax = 5\n",
    "z = np.logspace(logmin, logmax, 7500)\n",
    "\n",
    "scipy_bounds = scipy_bound(z[z<=7E2])\n",
    "rothwell_bounds = rothwell_bound(z[z>7E2])\n",
    "\n",
    "z_trap_upper = z[scipy_bound(z)<=trap_bound_upper(z)][0]\n",
    "trap_upper_bounds = trap_bound_upper(z[z>=z_trap_upper])\n",
    "trap_lower_bounds = trap_bound_lower(z[z>7E2])"
   ]
  },
  {
   "cell_type": "code",
   "execution_count": 4,
   "metadata": {
    "ExecuteTime": {
     "end_time": "2020-03-11T23:25:18.833907Z",
     "start_time": "2020-03-11T23:25:18.084617Z"
    }
   },
   "outputs": [
    {
     "data": {
      "image/png": "[encoded data removed]",
      "text/plain": [
       "<Figure size 432x288 with 1 Axes>"
      ]
     },
     "metadata": {
      "needs_background": "light"
     },
     "output_type": "display_data"
    }
   ],
   "source": [
    "fig1, ax1 = plt.subplots()\n",
    "\n",
    "ax1.set(xlabel='z', ylabel=r'$\\nu$', yscale='log', xscale='log')\n",
    "ax1.set_xlim(10**logmin, z[-1])\n",
    "ax1.set_ylim(10**logmin, trap_upper_bounds[-1])\n",
    "\n",
    "ax1.plot(z[z<=7E2], scipy_bounds, c='k')\n",
    "ax1.vlines(7E2, 10**logmin, scipy_bounds[-1], color='k')\n",
    "\n",
    "ax1.plot(z[z>7E2], rothwell_bounds, c='b')\n",
    "\n",
    "ax1.plot(z[z>=z_trap_upper], trap_upper_bounds, c='r')\n",
    "ax1.plot(z[z>7E2], trap_lower_bounds, c='r')\n",
    "\n",
    "z_trap = z[z>=z_trap_upper]\n",
    "ax1.fill_between(z, asymp_v_bound(z), np.ones(len(z))*trap_upper_bounds[-1], color='g', alpha=0.5)\n",
    "ax1.fill_between(z_trap, trap_lower_plot(z_trap), trap_upper_bounds, color='r', alpha=0.5)\n",
    "ax1.fill_between(z[z<=7E2], np.ones(len(z[z<=7E2]))*10**logmin, scipy_bounds, color='k', alpha=0.5)\n",
    "ax1.fill_between(z[z>7E2], np.ones(len(z[z>7E2]))*10**logmin, rothwell_bounds, color='b', alpha=0.5)\n",
    "ax1.fill_between(z[z>7E2], rothwell_bounds, trap_lower_bounds, color='c', alpha=0.5)\n",
    "\n",
    "plt.savefig('Plots/method_regions.pdf')"
   ]
  },
  {
   "cell_type": "markdown",
   "metadata": {},
   "source": [
    "# Relative error plot"
   ]
  },
  {
   "cell_type": "code",
   "execution_count": 5,
   "metadata": {
    "ExecuteTime": {
     "end_time": "2020-03-11T23:25:26.525043Z",
     "start_time": "2020-03-11T23:25:26.497265Z"
    }
   },
   "outputs": [],
   "source": [
    "def logdiffexp(x1,x2):\n",
    "    \n",
    "    x1 = np.longdouble(x1)\n",
    "    x2 = np.longdouble(x2)\n",
    "    \n",
    "    return x1+np.log1p(-np.exp(-(x1-x2)))\n",
    "\n",
    "def forward_recursion(v,z):\n",
    "    \n",
    "    first = lb.log_bessel_k(v+2,z)\n",
    "    second = np.log(2) + np.log(np.longdouble(v+1)) - np.log(np.longdouble(z)) + lb.log_bessel_k(v+1,z)\n",
    "    \n",
    "    return logdiffexp(first, second)\n",
    "\n",
    "def backward_recursion(v, z):\n",
    "    \n",
    "    first = lb.log_bessel_k(v-2, z)\n",
    "    second = np.log(2)+np.log(v-1)-np.log(z)+lb.log_bessel_k(v-1, z)\n",
    "    \n",
    "    return np.logaddexp(first, second)\n",
    "\n",
    "def recursion_test(v, z):\n",
    "    \n",
    "    rhs = np.zeros(np.shape(v))\n",
    "    \n",
    "    i_forward = v <= 1.\n",
    "    i_backward = v > 1.\n",
    "    \n",
    "    rhs[i_forward] = forward_recursion(v[i_forward], z)\n",
    "    rhs[i_backward] = backward_recursion(v[i_backward], z)\n",
    "    \n",
    "    lhs = lb.log_bessel_k(v, z)\n",
    "    \n",
    "    return np.abs(lhs/rhs-1)#, indices_forward, indices_backward"
   ]
  },
  {
   "cell_type": "code",
   "execution_count": 6,
   "metadata": {
    "ExecuteTime": {
     "end_time": "2020-03-11T23:25:37.939788Z",
     "start_time": "2020-03-11T23:25:37.793164Z"
    }
   },
   "outputs": [],
   "source": [
    "logmin = -5\n",
    "logmax = 5\n",
    "\n",
    "z = np.logspace(logmin, logmax, 7500)\n",
    "v = np.logspace(logmin, logmax, 7500)\n",
    "\n",
    "zz, vv = np.meshgrid(z, v)"
   ]
  },
  {
   "cell_type": "code",
   "execution_count": 9,
   "metadata": {
    "ExecuteTime": {
     "end_time": "2020-03-12T00:35:11.381995Z",
     "start_time": "2020-03-11T23:26:40.470625Z"
    }
   },
   "outputs": [
    {
     "name": "stdout",
     "output_type": "stream",
     "text": [
      "0.0 %\n",
      "10.0 %\n",
      "20.0 %\n",
      "30.0 %\n",
      "40.0 %\n",
      "50.0 %\n",
      "60.0 %\n",
      "70.0 %\n",
      "80.0 %\n",
      "90.0 %\n"
     ]
    }
   ],
   "source": [
    "rel_err_res = np.zeros((7500,7500))\n",
    "\n",
    "for i in range(len(rel_err_res)):\n",
    "    \n",
    "    if i % 750 == 0:\n",
    "        print(f'{i/7500 *100} %')\n",
    "        \n",
    "    rel_err_res[:, i] = recursion_test(v, z[i])"
   ]
  },
  {
   "cell_type": "code",
   "execution_count": 11,
   "metadata": {
    "ExecuteTime": {
     "end_time": "2020-03-12T00:38:23.710510Z",
     "start_time": "2020-03-12T00:37:09.408206Z"
    }
   },
   "outputs": [
    {
     "data": {
      "image/png": "[encoded data removed]",
      "text/plain": [
       "<Figure size 432x288 with 2 Axes>"
      ]
     },
     "metadata": {
      "needs_background": "light"
     },
     "output_type": "display_data"
    }
   ],
   "source": [
    "fig2, ax2 = plt.subplots()\n",
    "ax2.set(xlabel='z', ylabel=r'$\\nu$', yscale='log', xscale='log')\n",
    "\n",
    "rel_err = ax2.pcolormesh(zz, vv, rel_err_res)\n",
    "cbar = fig2.colorbar(rel_err)\n",
    "\n",
    "cbar.formatter.set_powerlimits((0, 0))\n",
    "cbar.update_ticks()\n",
    "\n",
    "ax2.set_xlim(10**logmin, z[-1])\n",
    "ax2.set_ylim(10**logmin, trap_upper_bounds[-1])\n",
    "\n",
    "ax2.plot(z[z<=7E2], scipy_bounds, c='k')\n",
    "ax2.vlines(7E2, 10**logmin, scipy_bounds[-1], color='k')\n",
    "\n",
    "ax2.plot(z[z>7E2], rothwell_bounds, c='c')\n",
    "\n",
    "ax2.plot(z[z>=z_trap_upper], trap_upper_bounds, c='r')\n",
    "ax2.plot(z[z>7E2], trap_lower_bounds, c='r')\n",
    "\n",
    "#ax2.set_ylim(10**logmin, v[-1])\n",
    "\n",
    "fig2.tight_layout()\n",
    "\n",
    "#plt.savefig('Plots/relative_error.png')"
   ]
  },
  {
   "cell_type": "code",
   "execution_count": 28,
   "metadata": {
    "ExecuteTime": {
     "end_time": "2020-03-12T00:48:40.001222Z",
     "start_time": "2020-03-12T00:48:39.907123Z"
    }
   },
   "outputs": [
    {
     "data": {
      "text/plain": [
       "0.2679339911111111"
      ]
     },
     "execution_count": 28,
     "metadata": {},
     "output_type": "execute_result"
    }
   ],
   "source": [
    "np.count_nonzero(rel_err_res>0.5E-12)/7500**2"
   ]
  },
  {
   "cell_type": "code",
   "execution_count": null,
   "metadata": {},
   "outputs": [],
   "source": []
  }
 ],
 "metadata": {
  "hide_input": false,
  "kernelspec": {
   "display_name": "Python 3",
   "language": "python",
   "name": "python3"
  },
  "language_info": {
   "codemirror_mode": {
    "name": "ipython",
    "version": 3
   },
   "file_extension": ".py",
   "mimetype": "text/x-python",
   "name": "python",
   "nbconvert_exporter": "python",
   "pygments_lexer": "ipython3",
   "version": "3.7.6"
  },
  "varInspector": {
   "cols": {
    "lenName": 16,
    "lenType": 16,
    "lenVar": 40
   },
   "kernels_config": {
    "python": {
     "delete_cmd_postfix": "",
     "delete_cmd_prefix": "del ",
     "library": "var_list.py",
     "varRefreshCmd": "print(var_dic_list())"
    },
    "r": {
     "delete_cmd_postfix": ") ",
     "delete_cmd_prefix": "rm(",
     "library": "var_list.r",
     "varRefreshCmd": "cat(var_dic_list()) "
    }
   },
   "types_to_exclude": [
    "module",
    "function",
    "builtin_function_or_method",
    "instance",
    "_Feature"
   ],
   "window_display": false
  }
 },
 "nbformat": 4,
 "nbformat_minor": 4
}
