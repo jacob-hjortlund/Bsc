{
 "cells": [
  {
   "cell_type": "code",
   "execution_count": 1,
   "metadata": {
    "ExecuteTime": {
     "end_time": "2020-03-09T11:16:21.236849Z",
     "start_time": "2020-03-09T11:16:20.969372Z"
    }
   },
   "outputs": [],
   "source": [
    "import numpy as np\n",
    "import matplotlib.pyplot as plt\n",
    "import log_bessel as lb\n",
    "from scipy.integrate import quad, fixed_quad"
   ]
  },
  {
   "cell_type": "markdown",
   "metadata": {},
   "source": [
    "# TESTS"
   ]
  },
  {
   "cell_type": "code",
   "execution_count": 2,
   "metadata": {
    "ExecuteTime": {
     "end_time": "2020-03-09T11:16:21.977637Z",
     "start_time": "2020-03-09T11:16:21.950978Z"
    }
   },
   "outputs": [],
   "source": [
    "v_to_test = np.array([0,3.15e-7, 2.62e-6, 1.3e-5, 9.2e-5, 0.0026,\n",
    "                      0.0843, 0.17345, 1, 1.63, 7.42, 42.42424, 86.5,\n",
    "                      113.8, 148.7565, 180.6, 246.3, 300.5, 513.6,\n",
    "                      712.456, 714.456, 1235.6,8656, 15330.75,\n",
    "                      37634.2 ,85323])\n",
    "\n",
    "z_to_test = np.array([1.48e-7, 3.6e-6, 7.248e-5, 4.32e-4, 8.7e-3, 0.04523, 0.17532,\n",
    "                      1, 3, 11.32465, 105.6, 1038.4, 4236, 11457.6, 62384, 105321.6,\n",
    "                      158742.3, 196754,  1.98e6])"
   ]
  },
  {
   "cell_type": "code",
   "execution_count": 28,
   "metadata": {
    "ExecuteTime": {
     "end_time": "2020-03-09T11:42:58.781891Z",
     "start_time": "2020-03-09T11:42:58.749233Z"
    },
    "code_folding": []
   },
   "outputs": [],
   "source": [
    "def logdiffexp(x1,x2):\n",
    "    \n",
    "    print('-----logdiffexp first term-----')\n",
    "    print(x1)\n",
    "    print('\\n')\n",
    "    print('-----Direct difference-----')\n",
    "    print(x2-x1 < 0)\n",
    "    print('\\n')\n",
    "    print('-----logdiffexp second term exponential-----')\n",
    "    print(-np.exp(-(x1-x2)))\n",
    "    print('\\n')\n",
    "    \n",
    "    return x1+np.log1p(-np.exp((x1-x2)))\n",
    "\n",
    "def forward_recursion(v,z):\n",
    "    \n",
    "    first, _ = lb.log_bessel_k(v+2,z)\n",
    "    second = np.log(2) + np.log(v+1) - np.log(z) + lb.log_bessel_k(v+1,z)[0]\n",
    "    indeces = lb.log_bessel_k(v+1,z)[1]\n",
    "    \n",
    "    #print('-------Forward recursion first term-------')\n",
    "    #print(second)\n",
    "    #print('\\n')\n",
    "    #print('-------Forward recursion second term-------')\n",
    "    #print(second)\n",
    "    #print('\\n')\n",
    "    #print('-------Diff of terms-------')\n",
    "    #print(first-second)\n",
    "    #print('\\n')\n",
    "    \n",
    "    return logdiffexp(first,second), indeces\n",
    "\n",
    "def backward_recursion(v, z):\n",
    "    \n",
    "    first, indeces = lb.log_bessel_k(v-2, z)\n",
    "    second = np.log(2)+np.log(v-1)-np.log(z)+lb.log_bessel_k(v-1, z)[0]\n",
    "    \n",
    "    return np.logaddexp(first, second), indeces\n",
    "\n",
    "def recursion_test(v, z):\n",
    "    \n",
    "    rhs = np.zeros(np.shape(v))\n",
    "    \n",
    "    i_forward = v <= 1.\n",
    "    i_backward = v > 1.\n",
    "    \n",
    "    rhs[i_forward], indices_forward = forward_recursion(v[i_forward], z)\n",
    "    rhs[i_backward], indices_backward = backward_recursion(v[i_backward], z)\n",
    "    \n",
    "    print('-------RHS forward-------')\n",
    "    print(rhs[i_forward])\n",
    "    print('\\n')\n",
    "    \n",
    "    lhs = lb.log_bessel_k(v, z)[0]\n",
    "    \n",
    "    return lhs/rhs, indices_forward, indices_backward"
   ]
  },
  {
   "cell_type": "code",
   "execution_count": null,
   "metadata": {},
   "outputs": [],
   "source": []
  },
  {
   "cell_type": "code",
   "execution_count": null,
   "metadata": {},
   "outputs": [],
   "source": []
  },
  {
   "cell_type": "code",
   "execution_count": 120,
   "metadata": {
    "ExecuteTime": {
     "end_time": "2020-03-09T12:51:01.753891Z",
     "start_time": "2020-03-09T12:51:01.735497Z"
    }
   },
   "outputs": [],
   "source": [
    "scipy_max_z = 200\n",
    "scipy_max_v = 700\n",
    "\n",
    "asymp_v_slope = 1\n",
    "asymp_v_intercept = 8\n",
    "\n",
    "asymp_z_slope = 1\n",
    "asymp_z_intercept = -3\n",
    "asymp_z_log_min_v = 10\n",
    "\n",
    "rothwell_max_v = 50\n",
    "rothwell_max_z = 100000\n",
    "rothwell_max_log_z_over_v = 300\n",
    "\n",
    "trapezoid_min_v = 100"
   ]
  },
  {
   "cell_type": "code",
   "execution_count": 138,
   "metadata": {
    "ExecuteTime": {
     "end_time": "2020-03-09T13:06:42.845720Z",
     "start_time": "2020-03-09T13:06:42.359128Z"
    }
   },
   "outputs": [
    {
     "data": {
      "text/plain": [
       "Text(0, 0.5, '$\\\\nu$')"
      ]
     },
     "execution_count": 138,
     "metadata": {},
     "output_type": "execute_result"
    },
    {
     "data": {
      "image/png": "[encoded data removed]",
      "text/plain": [
       "<Figure size 432x288 with 1 Axes>"
      ]
     },
     "metadata": {
      "needs_background": "light"
     },
     "output_type": "display_data"
    }
   ],
   "source": [
    "v = np.linspace(0,100000, 100000)\n",
    "z = np.linspace(0,100000, 100000)\n",
    "\n",
    "def rothwell_bound(z):\n",
    "    \n",
    "    return 300 / (np.log(z)+np.log(2)) + 0.5\n",
    "\n",
    "\n",
    "trap_low = np.exp(-3)*z\n",
    "trap_high = np.exp(8)*z\n",
    "\n",
    "plt.yscale('log')\n",
    "plt.xscale('log')\n",
    "\n",
    "plt.vlines(scipy_max_z, 0, scipy_max_v)\n",
    "plt.hlines(scipy_max_v, 0, scipy_max_z)\n",
    "plt.plot(z[z>200], rothwell_bound(z[z>200]))\n",
    "\n",
    "plt.plot(z[trap_low>=100], trap_low[trap_low>=100], c='r')\n",
    "plt.plot(z, trap_high, c='r')\n",
    "plt.hlines(trapezoid_min_v, 100, 2009, color='r')\n",
    "plt.plot(z[z<=100],v[v<=100], c='r')\n",
    "\n",
    "#plt.plot(z, v)\n",
    "\n",
    "plt.xlabel('z')\n",
    "plt.ylabel(r'$\\nu$')"
   ]
  },
  {
   "cell_type": "code",
   "execution_count": 105,
   "metadata": {
    "ExecuteTime": {
     "end_time": "2020-03-09T12:34:29.450851Z",
     "start_time": "2020-03-09T12:34:29.430165Z"
    }
   },
   "outputs": [
    {
     "data": {
      "text/plain": [
       "50.571146533085596"
      ]
     },
     "execution_count": 105,
     "metadata": {},
     "output_type": "execute_result"
    }
   ],
   "source": [
    "np.max(rothwell_bound(z[z>200]))"
   ]
  },
  {
   "cell_type": "code",
   "execution_count": 119,
   "metadata": {
    "ExecuteTime": {
     "end_time": "2020-03-09T12:50:56.741258Z",
     "start_time": "2020-03-09T12:50:56.727446Z"
    }
   },
   "outputs": [
    {
     "data": {
      "text/plain": [
       "100000"
      ]
     },
     "execution_count": 119,
     "metadata": {},
     "output_type": "execute_result"
    }
   ],
   "source": [
    "trapezoid_min_v"
   ]
  },
  {
   "cell_type": "code",
   "execution_count": null,
   "metadata": {},
   "outputs": [],
   "source": []
  }
 ],
 "metadata": {
  "hide_input": false,
  "kernelspec": {
   "display_name": "Python 3",
   "language": "python",
   "name": "python3"
  },
  "language_info": {
   "codemirror_mode": {
    "name": "ipython",
    "version": 3
   },
   "file_extension": ".py",
   "mimetype": "text/x-python",
   "name": "python",
   "nbconvert_exporter": "python",
   "pygments_lexer": "ipython3",
   "version": "3.7.6"
  },
  "varInspector": {
   "cols": {
    "lenName": 16,
    "lenType": 16,
    "lenVar": 40
   },
   "kernels_config": {
    "python": {
     "delete_cmd_postfix": "",
     "delete_cmd_prefix": "del ",
     "library": "var_list.py",
     "varRefreshCmd": "print(var_dic_list())"
    },
    "r": {
     "delete_cmd_postfix": ") ",
     "delete_cmd_prefix": "rm(",
     "library": "var_list.r",
     "varRefreshCmd": "cat(var_dic_list()) "
    }
   },
   "types_to_exclude": [
    "module",
    "function",
    "builtin_function_or_method",
    "instance",
    "_Feature"
   ],
   "window_display": false
  }
 },
 "nbformat": 4,
 "nbformat_minor": 4
}
