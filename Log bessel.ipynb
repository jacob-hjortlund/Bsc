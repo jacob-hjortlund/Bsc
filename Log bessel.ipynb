{
 "cells": [
  {
   "cell_type": "code",
   "execution_count": 1,
   "metadata": {
    "ExecuteTime": {
     "end_time": "2020-03-13T11:03:00.389577Z",
     "start_time": "2020-03-13T11:03:00.135883Z"
    }
   },
   "outputs": [],
   "source": [
    "import numpy as np\n",
    "import matplotlib.pyplot as plt\n",
    "import log_bessel as lb\n",
    "from scipy.integrate import quad, fixed_quad\n",
    "from scipy.special import kv\n",
    "\n",
    "params = {'xtick.labelsize': 16,\n",
    "          'ytick.labelsize': 16,\n",
    "          'legend.fontsize': 16,\n",
    "          'font.size': 16,\n",
    "          'legend.fancybox': True,\n",
    "          'axes.grid': True}\n",
    "\n",
    "plt.rcParams.update(params)"
   ]
  },
  {
   "cell_type": "markdown",
   "metadata": {},
   "source": [
    "# SciPy function bounds test"
   ]
  },
  {
   "cell_type": "code",
   "execution_count": 2,
   "metadata": {
    "ExecuteTime": {
     "end_time": "2020-03-11T21:19:27.684214Z",
     "start_time": "2020-03-11T21:19:27.672716Z"
    }
   },
   "outputs": [],
   "source": [
    "v_to_test = np.logspace(-5, np.log10(5000), 5000)\n",
    "z_to_test = np.logspace(-5, np.log10(5000), 5000)\n",
    "\n",
    "res = np.zeros((5000,5000))\n",
    "\n",
    "def function_test(v):\n",
    "    \n",
    "    return np.log(kv(v, z_to_test))"
   ]
  },
  {
   "cell_type": "code",
   "execution_count": 4,
   "metadata": {
    "ExecuteTime": {
     "end_time": "2020-03-11T17:27:19.935085Z",
     "start_time": "2020-03-11T17:27:10.188004Z"
    }
   },
   "outputs": [
    {
     "name": "stderr",
     "output_type": "stream",
     "text": [
      "/home/jacob/anaconda3/envs/pulsar_timing/lib/python3.7/site-packages/ipykernel_launcher.py:8: RuntimeWarning: divide by zero encountered in log\n",
      "  \n"
     ]
    }
   ],
   "source": [
    "for i in range(5000):\n",
    "    \n",
    "    res[i] = function_test(v_to_test[i])"
   ]
  },
  {
   "cell_type": "code",
   "execution_count": 5,
   "metadata": {
    "ExecuteTime": {
     "end_time": "2020-03-11T17:28:03.584521Z",
     "start_time": "2020-03-11T17:27:20.126443Z"
    }
   },
   "outputs": [
    {
     "data": {
      "image/png": "[encoded data removed]",
      "text/plain": [
       "<Figure size 432x288 with 2 Axes>"
      ]
     },
     "metadata": {
      "needs_background": "light"
     },
     "output_type": "display_data"
    }
   ],
   "source": [
    "plt.yscale('log', basey=10)\n",
    "plt.xscale('log', basex=10)\n",
    "\n",
    "zz, vv = np.meshgrid(z_to_test,v_to_test)\n",
    "err = plt.pcolormesh(zz, vv, res) #\n",
    "plt.colorbar(err)\n",
    "plt.plot(z_to_test[z_to_test<=700], 127 * z_to_test[z_to_test<=700]**0.1, c='r')\n",
    "\n",
    "plt.vlines(700, ymin=1E-5, ymax=(127 * z_to_test[z_to_test<=700]**0.1)[-1], color='r')\n",
    "plt.xlabel('z')\n",
    "plt.ylabel(r'$\\nu$')\n",
    "plt.tight_layout()\n",
    "plt.savefig('Plots/scipy_bessel_bounds.png')"
   ]
  },
  {
   "cell_type": "code",
   "execution_count": 6,
   "metadata": {
    "ExecuteTime": {
     "end_time": "2020-03-11T17:29:35.100159Z",
     "start_time": "2020-03-11T17:29:35.040969Z"
    }
   },
   "outputs": [
    {
     "name": "stdout",
     "output_type": "stream",
     "text": [
      "No. of infs on full z range\n",
      "478\n",
      "\n",
      "\n",
      "No. of infs with z_max=700\n",
      "0\n",
      "\n",
      "\n",
      "No. of infs with z_max=650\n",
      "0\n",
      "\n",
      "\n"
     ]
    },
    {
     "name": "stderr",
     "output_type": "stream",
     "text": [
      "/home/jacob/anaconda3/envs/pulsar_timing/lib/python3.7/site-packages/ipykernel_launcher.py:7: RuntimeWarning: divide by zero encountered in log\n",
      "  import sys\n"
     ]
    }
   ],
   "source": [
    "v_to_test2 = 127*z_to_test**0.1\n",
    "\n",
    "res2 = np.zeros(5000)\n",
    "\n",
    "for i in range(5000):\n",
    "    \n",
    "    res2[i] = np.log(kv(v_to_test2[i], z_to_test[i]))\n",
    "\n",
    "res2_abs = np.abs(res2)\n",
    "\n",
    "print('No. of infs on full z range')\n",
    "print(np.count_nonzero(res2_abs==np.inf))\n",
    "print('\\n')\n",
    "\n",
    "z_max_1 = 700\n",
    "print(f'No. of infs with z_max={z_max_1}')\n",
    "print(np.count_nonzero(res2_abs[z_to_test<=z_max_1]==np.inf))\n",
    "print('\\n')\n",
    "\n",
    "z_max_2 = 650\n",
    "print(f'No. of infs with z_max={z_max_2}')\n",
    "print(np.count_nonzero(res2_abs[z_to_test<=z_max_2]==np.inf))\n",
    "print('\\n')"
   ]
  },
  {
   "cell_type": "markdown",
   "metadata": {},
   "source": [
    "# Method regimes plot"
   ]
  },
  {
   "cell_type": "code",
   "execution_count": 97,
   "metadata": {
    "ExecuteTime": {
     "end_time": "2020-03-12T15:00:31.489926Z",
     "start_time": "2020-03-12T15:00:31.454941Z"
    }
   },
   "outputs": [],
   "source": [
    "def scipy_bound(z):\n",
    "    \n",
    "    return 127*z**0.1\n",
    "\n",
    "def rothwell_bound(z):\n",
    "    \n",
    "    b1 = 300 / (np.log(z)+np.log(2)) + 0.5\n",
    "    b2 = 0.5\n",
    "    \n",
    "    b1[b1>50] = np.nan\n",
    "    \n",
    "    return b1\n",
    "\n",
    "def trap_bound_upper(z):\n",
    "    \n",
    "    asymp_v_slope = 1\n",
    "    asymp_v_intercept = 8\n",
    "    \n",
    "    return np.exp(asymp_v_intercept)*z**asymp_v_slope\n",
    "\n",
    "def trap_bound_lower(z):\n",
    "    \n",
    "    asymp_z_slope = 1\n",
    "    asymp_z_intercept = -3\n",
    "    \n",
    "    bounds = np.ones(len(z))*100\n",
    "    b1 = z\n",
    "    b2 = np.exp(asymp_z_intercept)*z**asymp_z_slope\n",
    "    \n",
    "    i_b2 = b2>100\n",
    "    bounds[i_b2] = b2[i_b2]\n",
    "    \n",
    "    i_b1 = b1 < 100\n",
    "    bounds[i_b1] = b1[i_b1]\n",
    "    \n",
    "    return bounds\n",
    "\n",
    "def asymp_v_bound(z):\n",
    "    \n",
    "    b1 = scipy_bound(z)\n",
    "    b2 = trap_bound_upper(z)\n",
    "    \n",
    "    i = b2>b1\n",
    "    b1[i] = b2[i]\n",
    "    \n",
    "    return b1\n",
    "\n",
    "def trap_lower_plot(z):\n",
    "    \n",
    "    b1 = scipy_bound(z)\n",
    "    b2 = trap_bound_lower(z[z>7E2])\n",
    "    \n",
    "    b1[z>7E2] = b2\n",
    "    \n",
    "    return b1"
   ]
  },
  {
   "cell_type": "code",
   "execution_count": 98,
   "metadata": {
    "ExecuteTime": {
     "end_time": "2020-03-12T15:00:32.095308Z",
     "start_time": "2020-03-12T15:00:32.079193Z"
    }
   },
   "outputs": [],
   "source": [
    "logmin = -5\n",
    "logmax = 8\n",
    "z = np.logspace(logmin, logmax, 7500)\n",
    "\n",
    "scipy_bounds = scipy_bound(z[z<=7E2])\n",
    "rothwell_bounds = rothwell_bound(z[z>7E2])\n",
    "\n",
    "z_trap_upper = z[scipy_bound(z)<=trap_bound_upper(z)][0]\n",
    "trap_upper_bounds = trap_bound_upper(z[z>=z_trap_upper])\n",
    "trap_lower_bounds = trap_bound_lower(z[z>7E2])"
   ]
  },
  {
   "cell_type": "code",
   "execution_count": 99,
   "metadata": {
    "ExecuteTime": {
     "end_time": "2020-03-12T15:00:33.159051Z",
     "start_time": "2020-03-12T15:00:32.648669Z"
    }
   },
   "outputs": [
    {
     "data": {
      "image/png": "[encoded data removed]",
      "text/plain": [
       "<Figure size 432x288 with 1 Axes>"
      ]
     },
     "metadata": {
      "needs_background": "light"
     },
     "output_type": "display_data"
    }
   ],
   "source": [
    "fig1, ax1 = plt.subplots()\n",
    "\n",
    "ax1.set(xlabel='z', ylabel=r'$\\nu$', yscale='log', xscale='log')\n",
    "ax1.set_xlim(10**logmin, z[-1])\n",
    "ax1.set_ylim(10**logmin, trap_upper_bounds[-1])\n",
    "\n",
    "ax1.plot(z[z<=7E2], scipy_bounds, c='k')\n",
    "ax1.vlines(7E2, 10**logmin, scipy_bounds[-1], color='k')\n",
    "\n",
    "ax1.plot(z[z>7E2], rothwell_bounds, c='b')\n",
    "\n",
    "ax1.plot(z[z>=z_trap_upper], trap_upper_bounds, c='r')\n",
    "ax1.plot(z[z>7E2], trap_lower_bounds, c='r')\n",
    "\n",
    "alpha=0.5\n",
    "\n",
    "z_trap = z[z>=z_trap_upper]\n",
    "ax1.fill_between(z, asymp_v_bound(z), np.ones(len(z))*trap_upper_bounds[-1], color='g', alpha=alpha)\n",
    "ax1.fill_between(z_trap, trap_lower_plot(z_trap), trap_upper_bounds, color='r', alpha=alpha)\n",
    "ax1.fill_between(z[z<=7E2], np.ones(len(z[z<=7E2]))*10**logmin, scipy_bounds, color='k', alpha=alpha)\n",
    "ax1.fill_between(z[z>7E2], np.ones(len(z[z>7E2]))*10**logmin, rothwell_bounds, color='b', alpha=alpha)\n",
    "ax1.fill_between(z[z>7E2], rothwell_bounds, trap_lower_bounds, color='rebeccapurple', alpha=alpha)\n",
    "\n",
    "ax1.text(1E-4,5E4, 'Asymptotic v', color='g')\n",
    "ax1.text(1.5E2, 1E3, 'Trapezoidal \\ncosh integral', rotation=35, color='r')\n",
    "ax1.text(1E-4, 5E-2, 'SciPy Bessel func', color='k')\n",
    "ax1.text(1.5E4, 1.5E-2, 'Rothwell \\nintegral', color='b')\n",
    "ax1.text(2.5E4, 0.5E2, 'Asymptotic z', rotation =35, color='rebeccapurple')\n",
    "\n",
    "\n",
    "ax1.set_ylim(1E-5,1E8)\n",
    "fig1.tight_layout()\n",
    "\n",
    "plt.savefig('Plots/method_regions.pdf')"
   ]
  },
  {
   "cell_type": "markdown",
   "metadata": {},
   "source": [
    "# Relative error plot"
   ]
  },
  {
   "cell_type": "code",
   "execution_count": 4,
   "metadata": {
    "ExecuteTime": {
     "end_time": "2020-03-13T10:15:31.067038Z",
     "start_time": "2020-03-13T10:15:31.043619Z"
    }
   },
   "outputs": [],
   "source": [
    "def logdiffexp(x1,x2):\n",
    "    \n",
    "    x1 = np.longdouble(x1)\n",
    "    x2 = np.longdouble(x2)\n",
    "    \n",
    "    return x1+np.log1p(-np.exp(-(x1-x2)))\n",
    "\n",
    "def forward_recursion(v,z):\n",
    "    \n",
    "    first = lb.log_bessel_k(v+2,z)\n",
    "    second = np.log(2) + np.log(np.longdouble(v+1)) - np.log(np.longdouble(z)) + lb.log_bessel_k(v+1,z)\n",
    "    \n",
    "    return logdiffexp(first, second)\n",
    "\n",
    "def backward_recursion(v, z):\n",
    "    \n",
    "    first = lb.log_bessel_k(v-2, z)\n",
    "    second = np.log(2)+np.log(v-1)-np.log(z)+lb.log_bessel_k(v-1, z)\n",
    "    \n",
    "    return np.logaddexp(first, second)\n",
    "\n",
    "def recursion_test(v, z):\n",
    "    \n",
    "    rhs = np.zeros(np.shape(v))\n",
    "    \n",
    "    i_forward = v <= 1.\n",
    "    i_backward = v > 1.\n",
    "    \n",
    "    if v<=1:\n",
    "        rhs = forward_recursion(v, z)\n",
    "    else:\n",
    "        rhs = backward_recursion(v, z)\n",
    "    \n",
    "    lhs = lb.log_bessel_k(v, z)\n",
    "    \n",
    "    return np.abs(lhs/rhs-1)#, indices_forward, indices_backward"
   ]
  },
  {
   "cell_type": "code",
   "execution_count": 87,
   "metadata": {
    "ExecuteTime": {
     "end_time": "2020-03-12T10:28:10.522007Z",
     "start_time": "2020-03-12T10:28:10.375915Z"
    }
   },
   "outputs": [],
   "source": [
    "logmin = -5\n",
    "logmax = 5\n",
    "\n",
    "z = np.logspace(logmin, logmax, 7500)\n",
    "v = np.logspace(logmin, logmax, 7500)\n",
    "\n",
    "zz, vv = np.meshgrid(z, v)"
   ]
  },
  {
   "cell_type": "code",
   "execution_count": 9,
   "metadata": {
    "ExecuteTime": {
     "end_time": "2020-03-12T00:35:11.381995Z",
     "start_time": "2020-03-11T23:26:40.470625Z"
    }
   },
   "outputs": [
    {
     "name": "stdout",
     "output_type": "stream",
     "text": [
      "0.0 %\n",
      "10.0 %\n",
      "20.0 %\n",
      "30.0 %\n",
      "40.0 %\n",
      "50.0 %\n",
      "60.0 %\n",
      "70.0 %\n",
      "80.0 %\n",
      "90.0 %\n"
     ]
    }
   ],
   "source": [
    "rel_err_res = np.zeros((7500,7500))\n",
    "\n",
    "for i in range(len(rel_err_res)):\n",
    "    \n",
    "    if i % 750 == 0:\n",
    "        print(f'{i/7500 *100} %')\n",
    "        \n",
    "    rel_err_res[:, i] = recursion_test(v, z[i])"
   ]
  },
  {
   "cell_type": "code",
   "execution_count": 11,
   "metadata": {
    "ExecuteTime": {
     "end_time": "2020-03-12T00:38:23.710510Z",
     "start_time": "2020-03-12T00:37:09.408206Z"
    }
   },
   "outputs": [
    {
     "data": {
      "image/png": "[encoded data removed]",
      "text/plain": [
       "<Figure size 432x288 with 2 Axes>"
      ]
     },
     "metadata": {
      "needs_background": "light"
     },
     "output_type": "display_data"
    }
   ],
   "source": [
    "fig2, ax2 = plt.subplots()\n",
    "ax2.set(xlabel='z', ylabel=r'$\\nu$', yscale='log', xscale='log')\n",
    "\n",
    "rel_err = ax2.pcolormesh(zz, vv, rel_err_res)\n",
    "cbar = fig2.colorbar(rel_err)\n",
    "\n",
    "cbar.formatter.set_powerlimits((0, 0))\n",
    "cbar.update_ticks()\n",
    "\n",
    "ax2.set_xlim(10**logmin, z[-1])\n",
    "ax2.set_ylim(10**logmin, trap_upper_bounds[-1])\n",
    "\n",
    "ax2.plot(z[z<=7E2], scipy_bounds, c='k')\n",
    "ax2.vlines(7E2, 10**logmin, scipy_bounds[-1], color='k')\n",
    "\n",
    "ax2.plot(z[z>7E2], rothwell_bounds, c='c')\n",
    "\n",
    "ax2.plot(z[z>=z_trap_upper], trap_upper_bounds, c='r')\n",
    "ax2.plot(z[z>7E2], trap_lower_bounds, c='r')\n",
    "\n",
    "#ax2.set_ylim(10**logmin, v[-1])\n",
    "\n",
    "fig2.tight_layout()\n",
    "\n",
    "#plt.savefig('Plots/relative_error.png')"
   ]
  },
  {
   "cell_type": "code",
   "execution_count": 30,
   "metadata": {
    "ExecuteTime": {
     "end_time": "2020-03-12T00:52:58.974512Z",
     "start_time": "2020-03-12T00:52:58.666831Z"
    }
   },
   "outputs": [
    {
     "data": {
      "text/plain": [
       "2.220446049250313e-16"
      ]
     },
     "execution_count": 30,
     "metadata": {},
     "output_type": "execute_result"
    }
   ],
   "source": [
    "np.median(rel_err_res)"
   ]
  },
  {
   "cell_type": "markdown",
   "metadata": {},
   "source": [
    "# MATERN TEST"
   ]
  },
  {
   "cell_type": "code",
   "execution_count": 7,
   "metadata": {
    "ExecuteTime": {
     "end_time": "2020-03-13T11:06:20.226520Z",
     "start_time": "2020-03-13T11:06:20.199313Z"
    }
   },
   "outputs": [],
   "source": [
    "B0105 = np.loadtxt('Data/B0105+64.asc', usecols=(0,1,2,7))\n",
    "x = B0105[:, 0]\n",
    "y = B0105[:, 1]\n",
    "\n",
    "import gaussian_process as gp"
   ]
  },
  {
   "cell_type": "code",
   "execution_count": 8,
   "metadata": {
    "ExecuteTime": {
     "end_time": "2020-03-13T11:06:20.825830Z",
     "start_time": "2020-03-13T11:06:20.605220Z"
    }
   },
   "outputs": [],
   "source": [
    "theta = np.array([1,42.4242, 1])\n",
    "matern = gp.matern(theta, x)"
   ]
  },
  {
   "cell_type": "code",
   "execution_count": 9,
   "metadata": {
    "ExecuteTime": {
     "end_time": "2020-03-13T11:06:22.536078Z",
     "start_time": "2020-03-13T11:06:22.078192Z"
    }
   },
   "outputs": [
    {
     "data": {
      "text/plain": [
       "<matplotlib.colorbar.Colorbar at 0x7fa13d7f7e10>"
      ]
     },
     "execution_count": 9,
     "metadata": {},
     "output_type": "execute_result"
    },
    {
     "data": {
      "image/png": "[encoded data removed]",
      "text/plain": [
       "<Figure size 432x288 with 2 Axes>"
      ]
     },
     "metadata": {
      "needs_background": "light"
     },
     "output_type": "display_data"
    }
   ],
   "source": [
    "y = np.flip(x)\n",
    "xx, yy = np.meshgrid(x,y)\n",
    "\n",
    "fig3, ax3 = plt.subplots()\n",
    "\n",
    "cov_matrix = ax3.pcolormesh(xx, yy, matern)\n",
    "fig3.colorbar(cov_matrix)"
   ]
  },
  {
   "cell_type": "code",
   "execution_count": null,
   "metadata": {},
   "outputs": [],
   "source": []
  }
 ],
 "metadata": {
  "hide_input": false,
  "kernelspec": {
   "display_name": "Python 3",
   "language": "python",
   "name": "python3"
  },
  "language_info": {
   "codemirror_mode": {
    "name": "ipython",
    "version": 3
   },
   "file_extension": ".py",
   "mimetype": "text/x-python",
   "name": "python",
   "nbconvert_exporter": "python",
   "pygments_lexer": "ipython3",
   "version": "3.7.6"
  },
  "varInspector": {
   "cols": {
    "lenName": 16,
    "lenType": 16,
    "lenVar": 40
   },
   "kernels_config": {
    "python": {
     "delete_cmd_postfix": "",
     "delete_cmd_prefix": "del ",
     "library": "var_list.py",
     "varRefreshCmd": "print(var_dic_list())"
    },
    "r": {
     "delete_cmd_postfix": ") ",
     "delete_cmd_prefix": "rm(",
     "library": "var_list.r",
     "varRefreshCmd": "cat(var_dic_list()) "
    }
   },
   "types_to_exclude": [
    "module",
    "function",
    "builtin_function_or_method",
    "instance",
    "_Feature"
   ],
   "window_display": false
  }
 },
 "nbformat": 4,
 "nbformat_minor": 4
}
