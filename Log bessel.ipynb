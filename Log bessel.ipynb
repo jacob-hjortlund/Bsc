{
 "cells": [
  {
   "cell_type": "code",
   "execution_count": 1,
   "metadata": {
    "ExecuteTime": {
     "end_time": "2020-03-06T12:58:53.119659Z",
     "start_time": "2020-03-06T12:58:52.785525Z"
    }
   },
   "outputs": [],
   "source": [
    "import numpy as np\n",
    "import matplotlib.pyplot as plt\n",
    "import log_bessel as lb"
   ]
  },
  {
   "cell_type": "markdown",
   "metadata": {},
   "source": [
    "# TESTS"
   ]
  },
  {
   "cell_type": "code",
   "execution_count": 2,
   "metadata": {
    "ExecuteTime": {
     "end_time": "2020-03-06T12:58:53.524947Z",
     "start_time": "2020-03-06T12:58:53.516869Z"
    }
   },
   "outputs": [],
   "source": [
    "v_to_test = np.array([0,3.15e-7, 2.62e-6, 1.3e-5, 9.2e-5, 0.0026,\n",
    "                      0.0843, 0.17345, 1, 1.63, 7.42, 42.42424, 86.5,\n",
    "                      113.8, 148.7565, 180.6, 246.3, 300.5, 513.6,\n",
    "                      712.456, 714.456, 1235.6,8656, 15330.75,\n",
    "                      37634.2 ,85323])\n",
    "\n",
    "z_to_test = np.array([1.48e-7, 3.6e-6, 7.248e-5, 4.32e-4, 8.7e-3, 0.04523, 0.17532,\n",
    "                      1, 3, 11.32465, 105.6, 1038.4, 4236, 11457.6, 62384, 105321.6,\n",
    "                      158742.3, 196754,  1.98e6])"
   ]
  },
  {
   "cell_type": "code",
   "execution_count": 3,
   "metadata": {
    "ExecuteTime": {
     "end_time": "2020-03-06T12:58:54.545204Z",
     "start_time": "2020-03-06T12:58:54.506655Z"
    },
    "code_folding": []
   },
   "outputs": [],
   "source": [
    "def logdiffexp(x1,x2):\n",
    "    \n",
    "    return x1+np.log1p(-np.exp(-(x1-x2)))\n",
    "\n",
    "def forward_recursion(v,z):\n",
    "    \n",
    "    first = lb.log_bessel_k(v+2,z)[0]\n",
    "    second = np.log(2) + np.log(v+1) - np.log(z) + lb.log_bessel_k(v+1,z)[0]\n",
    "    \n",
    "    return logdiffexp(first,second)\n",
    "\n",
    "def backward_recursion(v, z):\n",
    "    \n",
    "    first = lb.log_bessel_k(v-2, z)[0]\n",
    "    second = np.log(2)+np.log(v-1)-np.log(z)+lb.log_bessel_k(v-1, z)[0]\n",
    "    \n",
    "    return np.logaddexp(first, second)\n",
    "\n",
    "def recursion_test(v, z):\n",
    "    \n",
    "    rhs = np.zeros(np.shape(v))\n",
    "    \n",
    "    i_forward = v <= 1\n",
    "    i_backward = v > 1\n",
    "    \n",
    "    rhs[i_forward] = forward_recursion(v[i_forward], z)\n",
    "    rhs[i_backward] = backward_recursion(v[i_backward], z)\n",
    "    \n",
    "    lhs = lb.log_bessel_k(v, z)[0]\n",
    "    \n",
    "    return lhs/rhs"
   ]
  },
  {
   "cell_type": "code",
   "execution_count": 4,
   "metadata": {
    "ExecuteTime": {
     "end_time": "2020-03-06T12:58:56.105088Z",
     "start_time": "2020-03-06T12:58:56.096942Z"
    }
   },
   "outputs": [],
   "source": [
    "v_0 = 1.63\n",
    "z_0 = z_to_test[-2]"
   ]
  },
  {
   "cell_type": "code",
   "execution_count": 5,
   "metadata": {
    "ExecuteTime": {
     "end_time": "2020-03-06T12:58:57.614873Z",
     "start_time": "2020-03-06T12:58:57.512266Z"
    }
   },
   "outputs": [
    {
     "data": {
      "text/plain": [
       "array([       inf, 5.28243268, 4.42889071, 3.84527355, 3.1314961 ,\n",
       "       1.90030317, 1.12232279, 1.06473451, 0.94282679, 1.        ,\n",
       "       1.        , 1.        , 1.        , 1.        , 1.        ,\n",
       "       1.        , 1.        , 1.        , 1.        , 1.        ,\n",
       "       1.        , 1.        , 1.        , 1.        , 1.        ,\n",
       "       1.        ])"
      ]
     },
     "execution_count": 5,
     "metadata": {},
     "output_type": "execute_result"
    }
   ],
   "source": [
    "recursion_test(v_to_test, z_to_test[0])"
   ]
  },
  {
   "cell_type": "code",
   "execution_count": 23,
   "metadata": {
    "ExecuteTime": {
     "end_time": "2020-03-06T12:57:58.615074Z",
     "start_time": "2020-03-06T12:57:58.600117Z"
    }
   },
   "outputs": [],
   "source": [
    "def rothwell_log_z_boundary(v):\n",
    "    \n",
    "    rothwell_max_log_z_over_v = 300\n",
    "\n",
    "    return rothwell_max_log_z_over_v / (v-0.5)-np.log(2)\n",
    "\n",
    "def method_indices(v, z):\n",
    "\n",
    "    rothwell_max_v = 50\n",
    "    rothwell_max_z = 100000\n",
    "    rothwell_max_log_z_over_v = 300\n",
    "\n",
    "    rothwell_1 = v < rothwell_max_v\n",
    "    rothwell_2 = np.log(z) < rothwell_log_z_boundary(v)\n",
    "\n",
    "    i_rothwell = np.logical_and(rothwell_1, rothwell_2)\n",
    "\n",
    "    i_asymp_v = np.logical_and(np.sqrt(v+1) > z, ~i_rothwell)\n",
    "    \n",
    "    i_asymp_z = np.logical_and(~i_rothwell,\n",
    "                               ~i_asymp_v)\n",
    "    \n",
    "\n",
    "    return i_rothwell, i_asymp_z, i_asymp_v"
   ]
  },
  {
   "cell_type": "code",
   "execution_count": 24,
   "metadata": {
    "ExecuteTime": {
     "end_time": "2020-03-06T12:57:59.026008Z",
     "start_time": "2020-03-06T12:57:59.007282Z"
    }
   },
   "outputs": [
    {
     "data": {
      "text/plain": [
       "(False, False, True)"
      ]
     },
     "execution_count": 24,
     "metadata": {},
     "output_type": "execute_result"
    }
   ],
   "source": [
    "method_indices(v_to_test[0], z_to_test[0])"
   ]
  },
  {
   "cell_type": "code",
   "execution_count": 20,
   "metadata": {
    "ExecuteTime": {
     "end_time": "2020-03-06T12:56:18.148296Z",
     "start_time": "2020-03-06T12:56:18.132477Z"
    }
   },
   "outputs": [
    {
     "data": {
      "text/plain": [
       "(False, True, False)"
      ]
     },
     "execution_count": 20,
     "metadata": {},
     "output_type": "execute_result"
    }
   ],
   "source": [
    "lb.method_indices(v_to_test[0], z_to_test[0])"
   ]
  },
  {
   "cell_type": "code",
   "execution_count": 22,
   "metadata": {
    "ExecuteTime": {
     "end_time": "2020-03-06T12:56:41.497226Z",
     "start_time": "2020-03-06T12:56:41.487035Z"
    }
   },
   "outputs": [
    {
     "data": {
      "text/plain": [
       "1.48e-07"
      ]
     },
     "execution_count": 22,
     "metadata": {},
     "output_type": "execute_result"
    }
   ],
   "source": [
    "v_to_test[0]\n",
    "z_to_test[0]"
   ]
  },
  {
   "cell_type": "code",
   "execution_count": 7,
   "metadata": {
    "ExecuteTime": {
     "end_time": "2020-03-06T16:13:28.429144Z",
     "start_time": "2020-03-06T16:13:28.407259Z"
    }
   },
   "outputs": [
    {
     "data": {
      "text/plain": [
       "array([  0,   2,   4,   6,   8,  10,  12,  14,  16,  18,  20,  22,  24,\n",
       "        26,  28,  30,  32,  34,  36,  38,  40,  42,  44,  46,  48,  50,\n",
       "        52,  54,  56,  58,  60,  62,  64,  66,  68,  70,  72,  74,  76,\n",
       "        78,  80,  82,  84,  86,  88,  90,  92,  94,  96,  98, 100, 102,\n",
       "       104, 106, 108, 110, 112, 114, 116, 118, 120, 122, 124, 126, 128,\n",
       "       130, 132, 134, 136, 138, 140, 142, 144, 146, 148, 150, 152, 154,\n",
       "       156, 158, 160, 162, 164, 166, 168, 170, 172, 174, 176, 178, 180,\n",
       "       182, 184, 186, 188, 190, 192, 194, 196, 198, 200, 202, 204, 206,\n",
       "       208, 210, 212, 214, 216, 218, 220, 222, 224, 226, 228, 230, 232,\n",
       "       234, 236, 238, 240, 242, 244, 246, 248, 250, 252, 254, 256, 258,\n",
       "       260, 262, 264, 266, 268, 270, 272, 274, 276, 278, 280, 282, 284,\n",
       "       286, 288, 290, 292, 294, 296, 298, 300, 302, 304, 306, 308, 310,\n",
       "       312, 314, 316, 318, 320, 322, 324, 326, 328, 330, 332, 334, 336,\n",
       "       338, 340, 342, 344, 346, 348, 350, 352, 354, 356, 358, 360, 362,\n",
       "       364, 366, 368, 370, 372, 374, 376, 378, 380, 382, 384, 386, 388,\n",
       "       390, 392, 394, 396, 398, 400, 402, 404, 406, 408, 410, 412, 414,\n",
       "       416, 418, 420, 422, 424, 426, 428, 430, 432, 434, 436, 438, 440,\n",
       "       442, 444, 446, 448, 450, 452, 454, 456, 458, 460, 462, 464, 466,\n",
       "       468, 470, 472, 474, 476, 478, 480, 482, 484, 486, 488, 490, 492,\n",
       "       494, 496, 498, 500, 502, 504, 506, 508, 510, 512, 514, 516, 518,\n",
       "       520, 522, 524, 526, 528, 530, 532, 534, 536, 538, 540, 542, 544,\n",
       "       546, 548, 550, 552, 554, 556, 558, 560, 562, 564, 566, 568, 570,\n",
       "       572, 574, 576, 578, 580, 582, 584, 586, 588, 590, 592, 594, 596,\n",
       "       598, 600, 602, 604, 606, 608, 610, 612, 614, 616, 618, 620, 622,\n",
       "       624, 626, 628, 630, 632, 634, 636, 638, 640, 642, 644, 646, 648,\n",
       "       650, 652, 654, 656, 658, 660, 662, 664, 666, 668, 670, 672, 674,\n",
       "       676, 678, 680, 682, 684, 686, 688, 690, 692, 694, 696, 698, 700,\n",
       "       702, 704, 706, 708, 710, 712, 714, 716, 718, 720, 722, 724, 726,\n",
       "       728, 730, 732, 734, 736, 738, 740, 742, 744, 746, 748, 750, 752,\n",
       "       754, 756, 758, 760, 762, 764, 766, 768, 770, 772, 774, 776, 778,\n",
       "       780, 782, 784, 786, 788, 790, 792, 794, 796, 798, 800, 802, 804,\n",
       "       806, 808, 810, 812, 814, 816, 818, 820, 822, 824, 826, 828, 830,\n",
       "       832, 834, 836, 838, 840, 842, 844, 846, 848, 850, 852, 854, 856,\n",
       "       858, 860, 862, 864, 866, 868, 870, 872, 874, 876, 878, 880, 882,\n",
       "       884, 886, 888, 890, 892, 894, 896, 898, 900, 902, 904, 906, 908,\n",
       "       910, 912, 914, 916, 918, 920, 922, 924, 926, 928, 930, 932, 934,\n",
       "       936, 938, 940, 942, 944, 946, 948, 950, 952, 954, 956, 958, 960,\n",
       "       962, 964, 966, 968, 970, 972, 974, 976, 978, 980, 982, 984, 986,\n",
       "       988, 990, 992, 994, 996, 998])"
      ]
     },
     "execution_count": 7,
     "metadata": {},
     "output_type": "execute_result"
    }
   ],
   "source": [
    "h=2\n",
    "n = np.arange(0,500,1)\n",
    "n*h"
   ]
  },
  {
   "cell_type": "code",
   "execution_count": null,
   "metadata": {},
   "outputs": [],
   "source": []
  }
 ],
 "metadata": {
  "hide_input": false,
  "kernelspec": {
   "display_name": "Python 3",
   "language": "python",
   "name": "python3"
  },
  "varInspector": {
   "cols": {
    "lenName": 16,
    "lenType": 16,
    "lenVar": 40
   },
   "kernels_config": {
    "python": {
     "delete_cmd_postfix": "",
     "delete_cmd_prefix": "del ",
     "library": "var_list.py",
     "varRefreshCmd": "print(var_dic_list())"
    },
    "r": {
     "delete_cmd_postfix": ") ",
     "delete_cmd_prefix": "rm(",
     "library": "var_list.r",
     "varRefreshCmd": "cat(var_dic_list()) "
    }
   },
   "types_to_exclude": [
    "module",
    "function",
    "builtin_function_or_method",
    "instance",
    "_Feature"
   ],
   "window_display": false
  }
 },
 "nbformat": 4,
 "nbformat_minor": 4
}
