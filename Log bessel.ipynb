{
 "cells": [
  {
   "cell_type": "code",
   "execution_count": 1,
   "metadata": {
    "ExecuteTime": {
     "end_time": "2020-03-10T08:03:42.871541Z",
     "start_time": "2020-03-10T08:03:42.538555Z"
    }
   },
   "outputs": [],
   "source": [
    "import numpy as np\n",
    "import matplotlib.pyplot as plt\n",
    "import log_bessel as lb\n",
    "from scipy.integrate import quad, fixed_quad\n",
    "from scipy.special import kv"
   ]
  },
  {
   "cell_type": "markdown",
   "metadata": {},
   "source": [
    "# TESTS"
   ]
  },
  {
   "cell_type": "code",
   "execution_count": 2,
   "metadata": {
    "ExecuteTime": {
     "end_time": "2020-03-10T08:03:43.810212Z",
     "start_time": "2020-03-10T08:03:43.790525Z"
    }
   },
   "outputs": [],
   "source": [
    "v_to_test = np.array([0,3.15e-7, 2.62e-6, 1.3e-5, 9.2e-5, 0.0026,\n",
    "                      0.0843, 0.17345, 1, 1.63, 7.42, 42.42424, 86.5,\n",
    "                      113.8, 148.7565, 180.6, 246.3, 300.5, 513.6,\n",
    "                      712.456, 714.456, 1235.6,8656, 15330.75,\n",
    "                      37634.2 ,85323])\n",
    "\n",
    "z_to_test = np.array([1.48e-7, 3.6e-6, 7.248e-5, 4.32e-4, 8.7e-3, 0.04523, 0.17532,\n",
    "                      1, 3, 11.32465, 105.6, 1038.4, 4236, 11457.6, 62384, 105321.6,\n",
    "                      158742.3, 196754,  1.98e6])"
   ]
  },
  {
   "cell_type": "code",
   "execution_count": 3,
   "metadata": {
    "ExecuteTime": {
     "end_time": "2020-03-10T08:03:45.089656Z",
     "start_time": "2020-03-10T08:03:45.075610Z"
    },
    "code_folding": []
   },
   "outputs": [],
   "source": [
    "def logdiffexp(x1,x2):\n",
    "    \n",
    "    x1 = np.longdouble(x1)\n",
    "    x2 = np.longdouble(x2)\n",
    "    \n",
    "    return x1+np.log1p(-np.exp(-(x1-x2)))\n",
    "\n",
    "def forward_recursion(v,z):\n",
    "    \n",
    "    first, _ = lb.log_bessel_k(v+2,z)\n",
    "    second = np.log(2) + np.log(np.longdouble(v+1)) - np.log(np.longdouble(z)) + lb.log_bessel_k(v+1,z)[0]\n",
    "    indeces = lb.log_bessel_k(v+1,z)[1]\n",
    "    #display(indeces)\n",
    "    #display(_)\n",
    "    \n",
    "    return logdiffexp(first, second), indeces\n",
    "\n",
    "def backward_recursion(v, z):\n",
    "    \n",
    "    first, indeces = lb.log_bessel_k(v-2, z)\n",
    "    second = np.log(2)+np.log(v-1)-np.log(z)+lb.log_bessel_k(v-1, z)[0]\n",
    "    \n",
    "    return np.logaddexp(first, second), indeces\n",
    "\n",
    "def recursion_test(v, z):\n",
    "    \n",
    "    rhs = np.zeros(np.shape(v))\n",
    "    \n",
    "    i_forward = v <= 1.\n",
    "    i_backward = v > 1.\n",
    "    \n",
    "    rhs[i_forward], indices_forward = forward_recursion(v[i_forward], z)\n",
    "    rhs[i_backward], indices_backward = backward_recursion(v[i_backward], z)\n",
    "    \n",
    "    lhs = lb.log_bessel_k(v, z)[0]\n",
    "    #lhs[i_forward] = np.exp(lhs[i_forward])\n",
    "    \n",
    "    return np.abs(lhs/rhs-1)#, indices_forward, indices_backward"
   ]
  },
  {
   "cell_type": "code",
   "execution_count": null,
   "metadata": {
    "ExecuteTime": {
     "end_time": "2020-03-10T07:58:29.597094Z",
     "start_time": "2020-03-10T07:58:24.954930Z"
    }
   },
   "outputs": [],
   "source": [
    "v_to_test = np.linspace(1, 1E5, 200107)\n",
    "z_to_test = np.linspace(1.48e-7, 1E4, 5000)\n",
    "\n",
    "res = np.zeros((10000, 200107))\n",
    "\n",
    "for i in range(5000):\n",
    "    \n",
    "    print(i+1)\n",
    "    res[i] = recursion_test(v_to_test, z_to_test[i])"
   ]
  },
  {
   "cell_type": "code",
   "execution_count": null,
   "metadata": {
    "ExecuteTime": {
     "end_time": "2020-03-09T21:15:02.086044Z",
     "start_time": "2020-03-09T21:14:43.110404Z"
    }
   },
   "outputs": [],
   "source": [
    "plt.yscale('log')\n",
    "plt.xscale('log')\n",
    "\n",
    "zz, vv = np.meshgrid(z_to_test,v_to_test)\n",
    "err = plt.pcolormesh(zz, vv, res.T)\n",
    "plt.colorbar(err)"
   ]
  },
  {
   "cell_type": "code",
   "execution_count": null,
   "metadata": {
    "ExecuteTime": {
     "end_time": "2020-03-09T21:17:49.717697Z",
     "start_time": "2020-03-09T21:17:49.696562Z"
    }
   },
   "outputs": [],
   "source": [
    "np.zeros((200000,10000))"
   ]
  },
  {
   "cell_type": "code",
   "execution_count": null,
   "metadata": {},
   "outputs": [],
   "source": []
  },
  {
   "cell_type": "code",
   "execution_count": null,
   "metadata": {
    "ExecuteTime": {
     "end_time": "2020-03-09T14:17:24.284885Z",
     "start_time": "2020-03-09T14:17:24.266692Z"
    }
   },
   "outputs": [],
   "source": [
    "scipy_max_z = 200\n",
    "scipy_max_v = 36\n",
    "\n",
    "asymp_v_slope = 1\n",
    "asymp_v_intercept = 8\n",
    "\n",
    "asymp_z_slope = 1\n",
    "asymp_z_intercept = -3\n",
    "asymp_z_log_min_v = 10\n",
    "\n",
    "rothwell_max_v = 50\n",
    "rothwell_max_z = 100000\n",
    "rothwell_max_log_z_over_v = 300\n",
    "\n",
    "trapezoid_min_v = 100"
   ]
  },
  {
   "cell_type": "code",
   "execution_count": null,
   "metadata": {
    "ExecuteTime": {
     "end_time": "2020-03-09T14:17:25.351216Z",
     "start_time": "2020-03-09T14:17:24.671557Z"
    }
   },
   "outputs": [],
   "source": [
    "v = np.linspace(0,100000, 100000)\n",
    "z = np.linspace(0,100000, 100000)\n",
    "\n",
    "def rothwell_bound(z):\n",
    "    \n",
    "    return 300 / (np.log(z)+np.log(2)) + 0.5\n",
    "\n",
    "\n",
    "trap_low = np.exp(-3)*z\n",
    "trap_high = np.exp(8)*z\n",
    "\n",
    "plt.yscale('log')\n",
    "plt.xscale('log')\n",
    "\n",
    "plt.vlines(scipy_max_z, 0, scipy_max_v)\n",
    "plt.hlines(scipy_max_v, 0, scipy_max_z)\n",
    "plt.plot(z[z>200], rothwell_bound(z[z>200]))\n",
    "\n",
    "plt.plot(z[trap_low>=100], trap_low[trap_low>=100], c='r')\n",
    "plt.plot(z, trap_high, c='r')\n",
    "plt.hlines(trapezoid_min_v, 100, 2009, color='r')\n",
    "plt.plot(z[z<=100],v[v<=100], c='r')\n",
    "\n",
    "#plt.plot(z, v)\n",
    "\n",
    "plt.xlabel('z')\n",
    "plt.ylabel(r'$\\nu$')"
   ]
  },
  {
   "cell_type": "code",
   "execution_count": 7,
   "metadata": {
    "ExecuteTime": {
     "end_time": "2020-03-10T08:07:26.560521Z",
     "start_time": "2020-03-10T08:07:26.514746Z"
    }
   },
   "outputs": [],
   "source": [
    "from schwimmbad import MPIPool\n",
    "import sys\n",
    "\n",
    "v_to_test = np.linspace(1,10,10)\n",
    "z_to_test = np.linspace(0.5, 5, 10)\n",
    "\n",
    "def function_test(z):\n",
    "    \n",
    "    return recursion_test(v_to_test, z)"
   ]
  },
  {
   "cell_type": "code",
   "execution_count": 10,
   "metadata": {
    "ExecuteTime": {
     "end_time": "2020-03-10T08:18:43.137600Z",
     "start_time": "2020-03-10T08:18:43.079823Z"
    }
   },
   "outputs": [
    {
     "name": "stderr",
     "output_type": "stream",
     "text": [
      "/home/jacob/Uni/Pulsar_timing/log_bessel.py:185: RuntimeWarning: divide by zero encountered in double_scalars\n",
      "  return rothwell_max_log_z_over_v / (v-0.5)-np.log(2)\n",
      "/home/jacob/Uni/Pulsar_timing/log_bessel.py:214: RuntimeWarning: divide by zero encountered in log\n",
      "  trap_1 = np.log(v) < (asymp_v_slope * np.log(z) + asymp_v_intercept)\n",
      "/home/jacob/Uni/Pulsar_timing/log_bessel.py:215: RuntimeWarning: divide by zero encountered in log\n",
      "  trap_2 = np.log(v) > (asymp_z_slope * np.log(z) + asymp_z_intercept)\n"
     ]
    }
   ],
   "source": [
    "res = np.zeros((10,10))\n",
    "\n",
    "for i in range(10):\n",
    "    \n",
    "    res[i] = function_test(z_to_test[i])"
   ]
  },
  {
   "cell_type": "code",
   "execution_count": 12,
   "metadata": {
    "ExecuteTime": {
     "end_time": "2020-03-10T08:19:38.753670Z",
     "start_time": "2020-03-10T08:19:38.736033Z"
    }
   },
   "outputs": [],
   "source": [
    "res_parallel = np.load('Results/log_bessel_test.npy')"
   ]
  },
  {
   "cell_type": "code",
   "execution_count": 14,
   "metadata": {
    "ExecuteTime": {
     "end_time": "2020-03-10T08:19:47.677975Z",
     "start_time": "2020-03-10T08:19:47.659764Z"
    }
   },
   "outputs": [
    {
     "data": {
      "text/plain": [
       "array([[0., 0., 0., 0., 0., 0., 0., 0., 0., 0.],\n",
       "       [0., 0., 0., 0., 0., 0., 0., 0., 0., 0.],\n",
       "       [0., 0., 0., 0., 0., 0., 0., 0., 0., 0.],\n",
       "       [0., 0., 0., 0., 0., 0., 0., 0., 0., 0.],\n",
       "       [0., 0., 0., 0., 0., 0., 0., 0., 0., 0.],\n",
       "       [0., 0., 0., 0., 0., 0., 0., 0., 0., 0.],\n",
       "       [0., 0., 0., 0., 0., 0., 0., 0., 0., 0.],\n",
       "       [0., 0., 0., 0., 0., 0., 0., 0., 0., 0.],\n",
       "       [0., 0., 0., 0., 0., 0., 0., 0., 0., 0.],\n",
       "       [0., 0., 0., 0., 0., 0., 0., 0., 0., 0.]])"
      ]
     },
     "execution_count": 14,
     "metadata": {},
     "output_type": "execute_result"
    }
   ],
   "source": [
    "res_parallel-res"
   ]
  },
  {
   "cell_type": "code",
   "execution_count": null,
   "metadata": {},
   "outputs": [],
   "source": []
  }
 ],
 "metadata": {
  "hide_input": false,
  "kernelspec": {
   "display_name": "Python 3",
   "language": "python",
   "name": "python3"
  },
  "language_info": {
   "codemirror_mode": {
    "name": "ipython",
    "version": 3
   },
   "file_extension": ".py",
   "mimetype": "text/x-python",
   "name": "python",
   "nbconvert_exporter": "python",
   "pygments_lexer": "ipython3",
   "version": "3.7.6"
  },
  "varInspector": {
   "cols": {
    "lenName": 16,
    "lenType": 16,
    "lenVar": 40
   },
   "kernels_config": {
    "python": {
     "delete_cmd_postfix": "",
     "delete_cmd_prefix": "del ",
     "library": "var_list.py",
     "varRefreshCmd": "print(var_dic_list())"
    },
    "r": {
     "delete_cmd_postfix": ") ",
     "delete_cmd_prefix": "rm(",
     "library": "var_list.r",
     "varRefreshCmd": "cat(var_dic_list()) "
    }
   },
   "types_to_exclude": [
    "module",
    "function",
    "builtin_function_or_method",
    "instance",
    "_Feature"
   ],
   "window_display": false
  }
 },
 "nbformat": 4,
 "nbformat_minor": 4
}
