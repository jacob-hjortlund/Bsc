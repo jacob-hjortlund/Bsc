{
 "cells": [
  {
   "cell_type": "code",
   "execution_count": 1,
   "metadata": {
    "ExecuteTime": {
     "end_time": "2020-03-04T09:26:20.629336Z",
     "start_time": "2020-03-04T09:26:20.522057Z"
    }
   },
   "outputs": [],
   "source": [
    "import numpy as np\n",
    "import scipy as sp\n",
    "from scipy.special import loggamma as lg\n",
    "from scipy.integrate import quad, quad_vec, fixed_quad\n",
    "#from quadpy import quad"
   ]
  },
  {
   "cell_type": "code",
   "execution_count": 11,
   "metadata": {
    "ExecuteTime": {
     "end_time": "2020-03-04T09:38:43.388976Z",
     "start_time": "2020-03-04T09:38:43.371675Z"
    }
   },
   "outputs": [],
   "source": [
    "def log_bessel(v, z):\n",
    "    \n",
    "    z_tmp = z\n",
    "    \n",
    "    lead = 0.5*np.log(np.pi)-lg(v+0.5)-v*np.log(2*z)-z\n",
    "    \n",
    "    beta = lambda v : 2*(v+0.5)/(2*v+1)\n",
    "\n",
    "    first = lambda x, v, z : beta(v) * np.exp( -x**beta(v) ) * ( 2 * z + x**beta(v) )**(v-0.5) * x**(v-0.5)\n",
    "    second = lambda x, v, z : np.exp(-1/x) * x**(-2*v-1) * ( 2 * z * x + 1 )**(v-0.5)\n",
    "\n",
    "    def integral(x, v):\n",
    "        \n",
    "        return first(x,v,z_tmp)+second(x,v,z_tmp)\n",
    "    \n",
    "    Q = np.vectorize(quad)(integral, 0, 1, args=(v))\n",
    "    \n",
    "    return lead+np.log(Q[0])"
   ]
  },
  {
   "cell_type": "code",
   "execution_count": 33,
   "metadata": {
    "ExecuteTime": {
     "end_time": "2020-03-04T20:03:35.732659Z",
     "start_time": "2020-03-04T20:03:35.632611Z"
    }
   },
   "outputs": [],
   "source": [
    "v = np.array([1,2,3,4,5,6,7,8,9,10,11,12,13,14,15,16,17,18,19,20])\n",
    "vals=np.exp(log_bessel(v, 0.1))"
   ]
  },
  {
   "cell_type": "code",
   "execution_count": 34,
   "metadata": {
    "ExecuteTime": {
     "end_time": "2020-03-04T20:03:35.943138Z",
     "start_time": "2020-03-04T20:03:35.930819Z"
    }
   },
   "outputs": [
    {
     "data": {
      "text/plain": [
       "array([   779.22112156,   2396.7553599 ,   4802.51668147,   8002.64928728,\n",
       "        12002.49931238,  16802.39981893,  22402.33322217,  28802.28563777,\n",
       "        36002.2499442 ,  44002.22217979,  52802.19996667,  62402.18179132,\n",
       "        72802.16664457,  84002.15382766,  96002.14284144, 108802.13331984,\n",
       "       122402.12498828, 136802.11763679])"
      ]
     },
     "execution_count": 34,
     "metadata": {},
     "output_type": "execute_result"
    }
   ],
   "source": [
    "error = np.zeros(len(v)-2)\n",
    "for i in range(2, len(v)):\n",
    "    val_rec = vals[i-2] + 2*(v-1) / 10\n",
    "    error[i-2] = np.abs(vals[i] / val_rec[i])\n",
    "    \n",
    "error"
   ]
  },
  {
   "cell_type": "code",
   "execution_count": null,
   "metadata": {},
   "outputs": [],
   "source": []
  }
 ],
 "metadata": {
  "hide_input": false,
  "kernelspec": {
   "display_name": "Python 3",
   "language": "python",
   "name": "python3"
  },
  "language_info": {
   "codemirror_mode": {
    "name": "ipython",
    "version": 3
   },
   "file_extension": ".py",
   "mimetype": "text/x-python",
   "name": "python",
   "nbconvert_exporter": "python",
   "pygments_lexer": "ipython3",
   "version": "3.7.6"
  },
  "varInspector": {
   "cols": {
    "lenName": 16,
    "lenType": 16,
    "lenVar": 40
   },
   "kernels_config": {
    "python": {
     "delete_cmd_postfix": "",
     "delete_cmd_prefix": "del ",
     "library": "var_list.py",
     "varRefreshCmd": "print(var_dic_list())"
    },
    "r": {
     "delete_cmd_postfix": ") ",
     "delete_cmd_prefix": "rm(",
     "library": "var_list.r",
     "varRefreshCmd": "cat(var_dic_list()) "
    }
   },
   "types_to_exclude": [
    "module",
    "function",
    "builtin_function_or_method",
    "instance",
    "_Feature"
   ],
   "window_display": false
  }
 },
 "nbformat": 4,
 "nbformat_minor": 4
}
