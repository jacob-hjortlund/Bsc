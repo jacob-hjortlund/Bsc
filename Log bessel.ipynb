{
 "cells": [
  {
   "cell_type": "code",
   "execution_count": 1,
   "metadata": {
    "ExecuteTime": {
     "end_time": "2020-03-08T15:52:28.436335Z",
     "start_time": "2020-03-08T15:52:28.167155Z"
    }
   },
   "outputs": [],
   "source": [
    "import numpy as np\n",
    "import matplotlib.pyplot as plt\n",
    "import log_bessel as lb\n",
    "from scipy.integrate import quad, fixed_quad"
   ]
  },
  {
   "cell_type": "markdown",
   "metadata": {},
   "source": [
    "# TESTS"
   ]
  },
  {
   "cell_type": "code",
   "execution_count": 2,
   "metadata": {
    "ExecuteTime": {
     "end_time": "2020-03-08T15:52:29.155047Z",
     "start_time": "2020-03-08T15:52:29.137866Z"
    }
   },
   "outputs": [],
   "source": [
    "v_to_test = np.array([0,3.15e-7, 2.62e-6, 1.3e-5, 9.2e-5, 0.0026,\n",
    "                      0.0843, 0.17345, 1, 1.63, 7.42, 42.42424, 86.5,\n",
    "                      113.8, 148.7565, 180.6, 246.3, 300.5, 513.6,\n",
    "                      712.456, 714.456, 1235.6,8656, 15330.75,\n",
    "                      37634.2 ,85323])\n",
    "\n",
    "z_to_test = np.array([1.48e-7, 3.6e-6, 7.248e-5, 4.32e-4, 8.7e-3, 0.04523, 0.17532,\n",
    "                      1, 3, 11.32465, 105.6, 1038.4, 4236, 11457.6, 62384, 105321.6,\n",
    "                      158742.3, 196754,  1.98e6])"
   ]
  },
  {
   "cell_type": "code",
   "execution_count": 13,
   "metadata": {
    "ExecuteTime": {
     "end_time": "2020-03-08T15:58:00.713440Z",
     "start_time": "2020-03-08T15:58:00.690040Z"
    },
    "code_folding": []
   },
   "outputs": [],
   "source": [
    "def logdiffexp(x1,x2):\n",
    "    \n",
    "    return x1+np.log1p(-np.exp(-(x1-x2)))\n",
    "\n",
    "def forward_recursion(v,z):\n",
    "    \n",
    "    first = lb.log_bessel_k(v+2,z)[0]\n",
    "    second = np.log(2) + np.log(v+1) - np.log(z) + lb.log_bessel_k(v+1,z)[0]\n",
    "    \n",
    "    return logdiffexp(first,second)\n",
    "\n",
    "def backward_recursion(v, z):\n",
    "    \n",
    "    first = lb.log_bessel_k(v-2, z)[0]\n",
    "    second = np.log(2)+np.log(v-1)-np.log(z)+lb.log_bessel_k(v-1, z)[0]\n",
    "    \n",
    "    return np.logaddexp(first, second)\n",
    "\n",
    "def recursion_test(v, z):\n",
    "    \n",
    "    rhs = np.zeros(np.shape(v))\n",
    "    \n",
    "    i_forward = v <= 1\n",
    "    i_backward = v > 1\n",
    "    \n",
    "    rhs[i_forward] = forward_recursion(v[i_forward], z)\n",
    "    rhs[i_backward] = backward_recursion(v[i_backward], z)\n",
    "    \n",
    "    print(rhs)\n",
    "    \n",
    "    lhs = lb.log_bessel_k(v, z)[0]\n",
    "    \n",
    "    return lhs/rhs"
   ]
  },
  {
   "cell_type": "code",
   "execution_count": 14,
   "metadata": {
    "ExecuteTime": {
     "end_time": "2020-03-08T15:58:01.020221Z",
     "start_time": "2020-03-08T15:58:00.936074Z"
    }
   },
   "outputs": [
    {
     "name": "stdout",
     "output_type": "stream",
     "text": [
      "[           nan            nan            nan            nan\n",
      "            nan            nan            nan            nan\n",
      " 4.92576022e+01            nan 1.28516404e+02 8.11495937e+02\n",
      " 1.71756004e+03 2.29134391e+03 3.03555777e+03 3.72078477e+03\n",
      " 5.15148534e+03 6.34533022e+03 1.11220128e+04 1.56623663e+04\n",
      " 1.57083435e+04 2.78452525e+04 2.11939660e+05 3.84135199e+05\n",
      " 9.76785698e+05 2.28438136e+06]\n"
     ]
    },
    {
     "name": "stderr",
     "output_type": "stream",
     "text": [
      "/home/jacob/Uni/Pulsar_timing/log_bessel.py:125: IntegrationWarning: The integral is probably divergent, or slowly convergent.\n",
      "  integral[i] = quad(f,0,np.inf,args=(v_tmp, z, value_at_max[i]))[0]\n",
      "/home/jacob/Uni/Pulsar_timing/log_bessel.py:127: RuntimeWarning: invalid value encountered in log\n",
      "  return np.log(integral)+value_at_max\n",
      "/home/jacob/anaconda3/envs/pulsar_timing/lib/python3.7/site-packages/ipykernel_launcher.py:3: RuntimeWarning: invalid value encountered in log1p\n",
      "  This is separate from the ipykernel package so we can avoid doing imports until\n",
      "/home/jacob/Uni/Pulsar_timing/log_bessel.py:125: IntegrationWarning: The algorithm does not converge.  Roundoff error is detected\n",
      "  in the extrapolation table.  It is assumed that the requested tolerance\n",
      "  cannot be achieved, and that the returned result (if full_output = 1) is \n",
      "  the best which can be obtained.\n",
      "  integral[i] = quad(f,0,np.inf,args=(v_tmp, z, value_at_max[i]))[0]\n",
      "/home/jacob/Uni/Pulsar_timing/log_bessel.py:205: RuntimeWarning: divide by zero encountered in log\n",
      "  trap_1 = np.log(v) < (asymp_v_slope * np.log(z) + asymp_v_intercept)\n",
      "/home/jacob/Uni/Pulsar_timing/log_bessel.py:206: RuntimeWarning: divide by zero encountered in log\n",
      "  trap_2 = np.log(v) > (asymp_z_slope * np.log(z) + asymp_z_intercept)\n"
     ]
    },
    {
     "data": {
      "text/plain": [
       "array([       nan,        nan,        nan,        nan,        nan,\n",
       "              nan,        nan,        nan, 0.31926145,        nan,\n",
       "       1.        , 1.        , 1.        , 1.        , 1.        ,\n",
       "       1.        , 1.        , 1.        , 1.        , 1.        ,\n",
       "       1.        , 1.        , 1.        , 1.        , 1.        ,\n",
       "       1.        ])"
      ]
     },
     "execution_count": 14,
     "metadata": {},
     "output_type": "execute_result"
    }
   ],
   "source": [
    "recursion_test(v_to_test, z_to_test[0])"
   ]
  },
  {
   "cell_type": "code",
   "execution_count": 18,
   "metadata": {
    "ExecuteTime": {
     "end_time": "2020-03-08T15:47:39.098931Z",
     "start_time": "2020-03-08T15:47:39.085235Z"
    }
   },
   "outputs": [
    {
     "name": "stderr",
     "output_type": "stream",
     "text": [
      "/home/jacob/anaconda3/envs/pulsar_timing/lib/python3.7/site-packages/ipykernel_launcher.py:13: IntegrationWarning: The integral is probably divergent, or slowly convergent.\n",
      "  del sys.path[0]\n"
     ]
    },
    {
     "data": {
      "text/plain": [
       "(-0.5000005638655747, 6.723897760685382e-06)"
      ]
     },
     "execution_count": 18,
     "metadata": {},
     "output_type": "execute_result"
    }
   ],
   "source": [
    "v_gg = v_to_test[8]\n",
    "z_gg = z_to_test[0]\n",
    "\n",
    "t_max = lb.log_gamma_integral_max_t(v_gg, z_gg)\n",
    "value_at_max = lb.log_gamma_integral_func(t_max, v_gg, z_gg)\n",
    "\n",
    "def f(t, v, z, val_max):\n",
    "\n",
    "    log_value = lb.log_gamma_integral_func(t, v, z, val_max)\n",
    "\n",
    "    return 0.5 * np.exp(log_value)\n",
    "\n",
    "quad(f, 0, np.inf, args=(v_gg, z_gg, value_at_max))"
   ]
  },
  {
   "cell_type": "code",
   "execution_count": 23,
   "metadata": {
    "ExecuteTime": {
     "end_time": "2020-03-08T15:50:35.820407Z",
     "start_time": "2020-03-08T15:50:35.797624Z"
    }
   },
   "outputs": [
    {
     "data": {
      "text/plain": [
       "1.0"
      ]
     },
     "metadata": {},
     "output_type": "display_data"
    },
    {
     "data": {
      "text/plain": [
       "array([1.480000e-07, 3.600000e-06, 7.248000e-05, 4.320000e-04,\n",
       "       8.700000e-03, 4.523000e-02, 1.753200e-01, 1.000000e+00,\n",
       "       3.000000e+00, 1.132465e+01, 1.056000e+02, 1.038400e+03,\n",
       "       4.236000e+03, 1.145760e+04, 6.238400e+04, 1.053216e+05,\n",
       "       1.587423e+05, 1.967540e+05, 1.980000e+06])"
      ]
     },
     "metadata": {},
     "output_type": "display_data"
    }
   ],
   "source": [
    "display(v_gg)\n",
    "display(z_to_test)"
   ]
  },
  {
   "cell_type": "code",
   "execution_count": null,
   "metadata": {},
   "outputs": [],
   "source": []
  }
 ],
 "metadata": {
  "hide_input": false,
  "kernelspec": {
   "display_name": "Python 3",
   "language": "python",
   "name": "python3"
  },
  "language_info": {
   "codemirror_mode": {
    "name": "ipython",
    "version": 3
   },
   "file_extension": ".py",
   "mimetype": "text/x-python",
   "name": "python",
   "nbconvert_exporter": "python",
   "pygments_lexer": "ipython3",
   "version": "3.7.6"
  },
  "varInspector": {
   "cols": {
    "lenName": 16,
    "lenType": 16,
    "lenVar": 40
   },
   "kernels_config": {
    "python": {
     "delete_cmd_postfix": "",
     "delete_cmd_prefix": "del ",
     "library": "var_list.py",
     "varRefreshCmd": "print(var_dic_list())"
    },
    "r": {
     "delete_cmd_postfix": ") ",
     "delete_cmd_prefix": "rm(",
     "library": "var_list.r",
     "varRefreshCmd": "cat(var_dic_list()) "
    }
   },
   "types_to_exclude": [
    "module",
    "function",
    "builtin_function_or_method",
    "instance",
    "_Feature"
   ],
   "window_display": false
  }
 },
 "nbformat": 4,
 "nbformat_minor": 4
}
