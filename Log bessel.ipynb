{
 "cells": [
  {
   "cell_type": "code",
   "execution_count": 1,
   "metadata": {
    "ExecuteTime": {
     "end_time": "2020-03-08T16:16:50.125939Z",
     "start_time": "2020-03-08T16:16:49.802218Z"
    }
   },
   "outputs": [],
   "source": [
    "import numpy as np\n",
    "import matplotlib.pyplot as plt\n",
    "import log_bessel as lb\n",
    "from scipy.integrate import quad, fixed_quad"
   ]
  },
  {
   "cell_type": "markdown",
   "metadata": {},
   "source": [
    "# TESTS"
   ]
  },
  {
   "cell_type": "code",
   "execution_count": 2,
   "metadata": {
    "ExecuteTime": {
     "end_time": "2020-03-08T16:16:50.832203Z",
     "start_time": "2020-03-08T16:16:50.815370Z"
    }
   },
   "outputs": [],
   "source": [
    "v_to_test = np.array([0,3.15e-7, 2.62e-6, 1.3e-5, 9.2e-5, 0.0026,\n",
    "                      0.0843, 0.17345, 1, 1.63, 7.42, 42.42424, 86.5,\n",
    "                      113.8, 148.7565, 180.6, 246.3, 300.5, 513.6,\n",
    "                      712.456, 714.456, 1235.6,8656, 15330.75,\n",
    "                      37634.2 ,85323])\n",
    "\n",
    "z_to_test = np.array([1.48e-7, 3.6e-6, 7.248e-5, 4.32e-4, 8.7e-3, 0.04523, 0.17532,\n",
    "                      1, 3, 11.32465, 105.6, 1038.4, 4236, 11457.6, 62384, 105321.6,\n",
    "                      158742.3, 196754,  1.98e6])"
   ]
  },
  {
   "cell_type": "code",
   "execution_count": 49,
   "metadata": {
    "ExecuteTime": {
     "end_time": "2020-03-08T16:51:40.774282Z",
     "start_time": "2020-03-08T16:51:40.747364Z"
    },
    "code_folding": []
   },
   "outputs": [],
   "source": [
    "def logdiffexp(x1,x2):\n",
    "    \n",
    "    return x1+np.log1p(-np.exp(-(x1-x2)))\n",
    "\n",
    "def forward_recursion(v,z):\n",
    "    \n",
    "    first, _ = lb.log_bessel_k(v+2,z)\n",
    "    second = np.log(2) + np.log(v+1) - np.log(z) + lb.log_bessel_k(v+1,z)[0]\n",
    "    indeces = lb.log_bessel_k(v+1,z)[1]\n",
    "    \n",
    "    display(first)\n",
    "    display(second)\n",
    "    display(v+1)\n",
    "    \n",
    "    return logdiffexp(first,second), indeces\n",
    "\n",
    "def backward_recursion(v, z):\n",
    "    \n",
    "    first, indeces = lb.log_bessel_k(v-2, z)\n",
    "    second = np.log(2)+np.log(v-1)-np.log(z)+lb.log_bessel_k(v-1, z)[0]\n",
    "    \n",
    "    return np.logaddexp(first, second), indeces\n",
    "\n",
    "def recursion_test(v, z):\n",
    "    \n",
    "    rhs = np.zeros(np.shape(v))\n",
    "    \n",
    "    i_forward = v <= 1.\n",
    "    i_backward = v > 1.\n",
    "    \n",
    "    rhs[i_forward], indices_forward = forward_recursion(v[i_forward], z)\n",
    "    rhs[i_backward], indices_backward = backward_recursion(v[i_backward], z)\n",
    "    \n",
    "    #print(rhs[i_forward])\n",
    "    \n",
    "    lhs = lb.log_bessel_k(v, z)[0]\n",
    "    \n",
    "    return lhs/rhs, indices_forward, indices_backward"
   ]
  },
  {
   "cell_type": "code",
   "execution_count": 50,
   "metadata": {
    "ExecuteTime": {
     "end_time": "2020-03-08T16:51:43.035106Z",
     "start_time": "2020-03-08T16:51:42.914187Z"
    }
   },
   "outputs": [
    {
     "name": "stderr",
     "output_type": "stream",
     "text": [
      "/home/jacob/Uni/Pulsar_timing/log_bessel.py:125: IntegrationWarning: The integral is probably divergent, or slowly convergent.\n",
      "  integral[i] = quad(f,0,np.inf,args=(v_tmp, z, value_at_max[i]))[0]\n",
      "/home/jacob/Uni/Pulsar_timing/log_bessel.py:127: RuntimeWarning: invalid value encountered in log\n",
      "  return np.log(integral)+value_at_max\n"
     ]
    },
    {
     "data": {
      "text/plain": [
       "array([-1.38621756, -1.38621574, -1.38620114, -1.38613342, -1.38561658,\n",
       "       -1.36921258, -0.83392572, -0.24761594, 49.25760223])"
      ]
     },
     "metadata": {},
     "output_type": "display_data"
    },
    {
     "data": {
      "text/plain": [
       "array([        nan,         nan,         nan,         nan,         nan,\n",
       "               nan,         nan,         nan, 15.72613036])"
      ]
     },
     "metadata": {},
     "output_type": "display_data"
    },
    {
     "data": {
      "text/plain": [
       "array([1.        , 1.00000032, 1.00000262, 1.000013  , 1.000092  ,\n",
       "       1.0026    , 1.0843    , 1.17345   , 2.        ])"
      ]
     },
     "metadata": {},
     "output_type": "display_data"
    },
    {
     "name": "stderr",
     "output_type": "stream",
     "text": [
      "/home/jacob/Uni/Pulsar_timing/log_bessel.py:125: IntegrationWarning: The algorithm does not converge.  Roundoff error is detected\n",
      "  in the extrapolation table.  It is assumed that the requested tolerance\n",
      "  cannot be achieved, and that the returned result (if full_output = 1) is \n",
      "  the best which can be obtained.\n",
      "  integral[i] = quad(f,0,np.inf,args=(v_tmp, z, value_at_max[i]))[0]\n",
      "/home/jacob/Uni/Pulsar_timing/log_bessel.py:205: RuntimeWarning: divide by zero encountered in log\n",
      "  trap_1 = np.log(v) < (asymp_v_slope * np.log(z) + asymp_v_intercept)\n",
      "/home/jacob/Uni/Pulsar_timing/log_bessel.py:206: RuntimeWarning: divide by zero encountered in log\n",
      "  trap_2 = np.log(v) > (asymp_z_slope * np.log(z) + asymp_z_intercept)\n"
     ]
    }
   ],
   "source": [
    "ratio, i_forw, i_back = recursion_test(v_to_test, z_to_test[0])"
   ]
  },
  {
   "cell_type": "code",
   "execution_count": 99,
   "metadata": {
    "ExecuteTime": {
     "end_time": "2020-03-08T17:12:48.728929Z",
     "start_time": "2020-03-08T17:12:48.695602Z"
    }
   },
   "outputs": [
    {
     "data": {
      "text/plain": [
       "1.48e-07"
      ]
     },
     "metadata": {},
     "output_type": "display_data"
    },
    {
     "data": {
      "text/plain": [
       "0.9992554201505217"
      ]
     },
     "metadata": {},
     "output_type": "display_data"
    },
    {
     "data": {
      "text/plain": [
       "-1.4800004105610682e-07"
      ]
     },
     "metadata": {},
     "output_type": "display_data"
    },
    {
     "name": "stderr",
     "output_type": "stream",
     "text": [
      "/home/jacob/anaconda3/envs/pulsar_timing/lib/python3.7/site-packages/ipykernel_launcher.py:17: IntegrationWarning: The integral is probably divergent, or slowly convergent.\n"
     ]
    },
    {
     "data": {
      "text/plain": [
       "-0.5000005638655747"
      ]
     },
     "execution_count": 99,
     "metadata": {},
     "output_type": "execute_result"
    }
   ],
   "source": [
    "v_gg = 1\n",
    "z_gg = z_to_test[0]\n",
    "\n",
    "display(z_gg)\n",
    "\n",
    "t_max = lb.log_gamma_integral_max_t(v_gg, z_gg)\n",
    "display(t_max)\n",
    "value_at_max = lb.log_gamma_integral_func(t_max, v_gg, z_gg)\n",
    "display(value_at_max)\n",
    "\n",
    "def f(t, v, z, val_max):\n",
    "\n",
    "    log_value = lb.log_gamma_integral_func(t, v, z, val_max)\n",
    "\n",
    "    return 0.5 * np.exp(log_value)\n",
    "\n",
    "quad(f, 0, np.inf, args=(v_gg, z_gg, value_at_max), epsabs=0)[0]"
   ]
  },
  {
   "cell_type": "code",
   "execution_count": null,
   "metadata": {},
   "outputs": [],
   "source": []
  }
 ],
 "metadata": {
  "hide_input": false,
  "kernelspec": {
   "display_name": "Python 3",
   "language": "python",
   "name": "python3"
  },
  "language_info": {
   "codemirror_mode": {
    "name": "ipython",
    "version": 3
   },
   "file_extension": ".py",
   "mimetype": "text/x-python",
   "name": "python",
   "nbconvert_exporter": "python",
   "pygments_lexer": "ipython3",
   "version": "3.7.6"
  },
  "varInspector": {
   "cols": {
    "lenName": 16,
    "lenType": 16,
    "lenVar": 40
   },
   "kernels_config": {
    "python": {
     "delete_cmd_postfix": "",
     "delete_cmd_prefix": "del ",
     "library": "var_list.py",
     "varRefreshCmd": "print(var_dic_list())"
    },
    "r": {
     "delete_cmd_postfix": ") ",
     "delete_cmd_prefix": "rm(",
     "library": "var_list.r",
     "varRefreshCmd": "cat(var_dic_list()) "
    }
   },
   "types_to_exclude": [
    "module",
    "function",
    "builtin_function_or_method",
    "instance",
    "_Feature"
   ],
   "window_display": false
  }
 },
 "nbformat": 4,
 "nbformat_minor": 4
}
