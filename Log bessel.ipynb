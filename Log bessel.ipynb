{
 "cells": [
  {
   "cell_type": "code",
   "execution_count": 71,
   "metadata": {
    "ExecuteTime": {
     "end_time": "2020-03-05T13:29:17.552987Z",
     "start_time": "2020-03-05T13:29:17.373770Z"
    }
   },
   "outputs": [],
   "source": [
    "import numpy as np\n",
    "import scipy as sp\n",
    "from scipy.special import loggamma as lg\n",
    "from scipy.integrate import quad, quad_vec, fixed_quad\n",
    "import matplotlib.pyplot as plt\n",
    "#from quadpy import quad"
   ]
  },
  {
   "cell_type": "code",
   "execution_count": 35,
   "metadata": {
    "ExecuteTime": {
     "end_time": "2020-03-05T13:04:27.422655Z",
     "start_time": "2020-03-05T13:04:27.394219Z"
    },
    "code_folding": [
     32
    ]
   },
   "outputs": [],
   "source": [
    "def rothwell_lead(v, z):\n",
    "\n",
    "    lead = 0.5*np.log(np.pi)-lg(v+0.5)-v*np.log(2*z)-z\n",
    "    \n",
    "    lead[np.isinf(lead)] = -z + 0.5 * np.log(0.5*np.pi / z)\n",
    "\n",
    "    return lead\n",
    "\n",
    "def inner_integral_rothwell(u, v, z):\n",
    "\n",
    "    n = 8\n",
    "    v_mhalf = v - 0.5\n",
    "    neg2v_m1 = -2. * v - 1.\n",
    "    beta = (2. * n ) / (2. * v + 1.)\n",
    "\n",
    "    uB = u**beta\n",
    "    inv_u = -1. / u\n",
    "\n",
    "    first = beta * np.exp(-uB) * (2 * z + uB)**v_mhalf * u**(n-1)\n",
    "    second = np.exp(inv_u)\n",
    "    if second > 0:\n",
    "        second *= u**neg2v_m1\n",
    "        if np.isinf(second):\n",
    "            second = np.exp(inv_u+neg2v_m1*np.log(u))\n",
    "        second *= (2. * z * u + 1)**v_mhalf\n",
    "\n",
    "    return first + second\n",
    "\n",
    "def compute_log_integral(v, z):\n",
    "    \n",
    "    integral = np.zeros(np.shape(v))\n",
    "    \n",
    "    for i, v_tmp in enumerate(v):\n",
    "        \n",
    "        integral[i] = quad(inner_integral_rothwell,0,1,args=(v_tmp, z))[0]\n",
    "        \n",
    "    return np.log(integral)\n",
    "\n",
    "def rothwell(v, z):\n",
    "\n",
    "\tlead = rothwell_lead(v, z)\n",
    "\tlog_integral = compute_log_integral(v, z)\n",
    "\n",
    "\treturn lead + log_integral"
   ]
  },
  {
   "cell_type": "code",
   "execution_count": 11,
   "metadata": {
    "ExecuteTime": {
     "end_time": "2020-03-05T12:48:24.604052Z",
     "start_time": "2020-03-05T12:48:24.585076Z"
    },
    "code_folding": []
   },
   "outputs": [],
   "source": [
    "def asymptotic_large_v(v, z):\n",
    "\n",
    "\treturn lg(v) - np.log(2) + v * (np.log(2)-np.log(z))"
   ]
  },
  {
   "cell_type": "code",
   "execution_count": 85,
   "metadata": {
    "ExecuteTime": {
     "end_time": "2020-03-05T13:33:45.384005Z",
     "start_time": "2020-03-05T13:33:45.359144Z"
    },
    "code_folding": []
   },
   "outputs": [],
   "source": [
    "def asymptotic_large_z(v, z):\n",
    "\n",
    "    log_z = np.log(z)\n",
    "    base = 0.5 * (np.log(np.pi) - np.log(2) - log_z) - z\n",
    "\n",
    "    max_terms = 50\n",
    "    v_squared_4 = v * v * 4\n",
    "    a_k_z_k = 1\n",
    "    series_sum = 1\n",
    "\n",
    "    for k in range(1, max_terms+1):\n",
    "        a_k_z_k *= (v_squared_4-(2 * k -1)**2) / (k * z * 8)\n",
    "        series_sum += a_k_z_k\n",
    "        #if np.abs(a_k_z_k) < 1e-8:\n",
    "        #    print(\"breeaaaak\")\n",
    "        #    break\n",
    "\n",
    "    return base + np.log(series_sum)"
   ]
  },
  {
   "cell_type": "code",
   "execution_count": 86,
   "metadata": {
    "ExecuteTime": {
     "end_time": "2020-03-05T13:33:47.333418Z",
     "start_time": "2020-03-05T13:33:47.312373Z"
    },
    "code_folding": [
     0
    ]
   },
   "outputs": [],
   "source": [
    "def rothwell_log_z_boundary(v):\n",
    "    \n",
    "    rothwell_max_log_z_over_v = 300\n",
    "\n",
    "    return rothwell_max_log_z_over_v / (v-0.5)-np.log(2)\n",
    "\n",
    "def method_indices(v, z):\n",
    "\n",
    "    rothwell_max_v = 50\n",
    "    rothwell_max_z = 100000\n",
    "    rothwell_max_log_z_over_v = 300\n",
    "\n",
    "    rothwell_1 = v < rothwell_max_v\n",
    "    rothwell_2 = np.log(z) < rothwell_log_z_boundary(v)\n",
    "\n",
    "    i_rothwell = np.logical_and(rothwell_1, rothwell_2)\n",
    "\n",
    "    i_asymp_v = np.logical_and(v > z, ~i_rothwell)\n",
    "    \n",
    "    i_asymp_z = np.logical_and(np.logical_and(v > 10, ~i_rothwell),\n",
    "                               ~i_asymp_v)\n",
    "    \n",
    "\n",
    "    return i_rothwell, i_asymp_z, i_asymp_v"
   ]
  },
  {
   "cell_type": "code",
   "execution_count": 111,
   "metadata": {
    "ExecuteTime": {
     "end_time": "2020-03-05T16:40:31.208656Z",
     "start_time": "2020-03-05T16:40:31.188819Z"
    },
    "code_folding": []
   },
   "outputs": [],
   "source": [
    "def log_bessel_k(v, z):\n",
    "    \n",
    "    v = np.abs(v)\n",
    "    res = np.zeros(np.shape(v))\n",
    "    methods = [rothwell, asymptotic_large_z, asymptotic_large_v]\n",
    "\n",
    "    indeces = method_indices(v, z)\n",
    "    \n",
    "    for method, index in zip(methods, indeces):\n",
    "\n",
    "        res[index] = method(v[index], z)\n",
    "\n",
    "    return res, indeces"
   ]
  },
  {
   "cell_type": "markdown",
   "metadata": {},
   "source": [
    "# TESTS"
   ]
  },
  {
   "cell_type": "code",
   "execution_count": 112,
   "metadata": {
    "ExecuteTime": {
     "end_time": "2020-03-05T16:40:32.777310Z",
     "start_time": "2020-03-05T16:40:32.760376Z"
    }
   },
   "outputs": [],
   "source": [
    "v_to_test = np.array([0,3.15e-7, 2.62e-6, 1.3e-5, 9.2e-5, 0.0026,\n",
    "                      0.0843, 0.17345, 1, 1.63, 7.42, 42.42424, 86.5,\n",
    "                      113.8, 148.7565, 180.6, 246.3, 300.5, 513.6,\n",
    "                      712.456, 714.456, 1235.6,8656, 15330.75,\n",
    "                      37634.2 ,85323])\n",
    "\n",
    "z_to_test = np.array([1.48e-7, 3.6e-6, 7.248e-5, 4.32e-4, 8.7e-3, 0.04523, 0.17532,\n",
    "                      1, 3, 11.32465, 105.6, 1038.4, 4236, 11457.6, 62384, 105321.6,\n",
    "                      158742.3, 196754,  1.98e6])"
   ]
  },
  {
   "cell_type": "code",
   "execution_count": 113,
   "metadata": {
    "ExecuteTime": {
     "end_time": "2020-03-05T16:40:33.166640Z",
     "start_time": "2020-03-05T16:40:33.159000Z"
    }
   },
   "outputs": [],
   "source": [
    "def recursion_test(v, z):\n",
    "    \n",
    "    first = log_bessel_k(v-2, z)[0]\n",
    "    display(np.log(v-1))\n",
    "    second = np.log(2)+np.log(v-1)-np.log(z)+log_bessel_k(v-1, z)[0]\n",
    "    \n",
    "    rhs = np.logaddexp(first, second)\n",
    "    lhs = log_bessel_k(v, z)[0]\n",
    "    \n",
    "    return lhs/rhs"
   ]
  },
  {
   "cell_type": "code",
   "execution_count": 114,
   "metadata": {
    "ExecuteTime": {
     "end_time": "2020-03-05T16:40:33.813009Z",
     "start_time": "2020-03-05T16:40:33.729095Z"
    }
   },
   "outputs": [
    {
     "name": "stderr",
     "output_type": "stream",
     "text": [
      "/home/jacob/anaconda3/envs/pulsar_timing/lib/python3.7/site-packages/ipykernel_launcher.py:4: RuntimeWarning: divide by zero encountered in log\n",
      "  after removing the cwd from sys.path.\n",
      "/home/jacob/anaconda3/envs/pulsar_timing/lib/python3.7/site-packages/ipykernel_launcher.py:4: RuntimeWarning: invalid value encountered in log\n",
      "  after removing the cwd from sys.path.\n"
     ]
    },
    {
     "data": {
      "text/plain": [
       "array([        nan,         nan,         nan,         nan,         nan,\n",
       "               nan,         nan,         nan,        -inf, -0.46203546,\n",
       "        1.85941812,  3.72386622,  4.44851638,  4.72561634,  4.99556565,\n",
       "        5.19073216,  5.50248195,  5.70211442,  6.23949581,  6.56731357,\n",
       "        6.57012077,  7.11850231,  9.06589247,  9.63755066, 10.53564192,\n",
       "       11.35418761])"
      ]
     },
     "metadata": {},
     "output_type": "display_data"
    },
    {
     "name": "stderr",
     "output_type": "stream",
     "text": [
      "/home/jacob/anaconda3/envs/pulsar_timing/lib/python3.7/site-packages/ipykernel_launcher.py:5: RuntimeWarning: divide by zero encountered in log\n",
      "  \"\"\"\n",
      "/home/jacob/anaconda3/envs/pulsar_timing/lib/python3.7/site-packages/ipykernel_launcher.py:5: RuntimeWarning: invalid value encountered in log\n",
      "  \"\"\"\n"
     ]
    },
    {
     "data": {
      "text/plain": [
       "array([            nan,             nan,             nan,             nan,\n",
       "                   nan,             nan,             nan,             nan,\n",
       "        1.00000000e+00, -5.37586399e+50,  1.00000000e+00,  1.00000000e+00,\n",
       "        1.00000027e+00,  1.00704478e+00,  9.61865061e-01,  9.97874424e-01,\n",
       "        9.99651642e-01,  9.99860074e-01,  9.99983779e-01,  9.99995169e-01,\n",
       "        9.99995217e-01,  9.99999312e-01,  9.99999999e-01,  1.00000000e+00,\n",
       "        1.00000000e+00,  1.00000000e+00])"
      ]
     },
     "execution_count": 114,
     "metadata": {},
     "output_type": "execute_result"
    }
   ],
   "source": [
    "recursion_test(v_to_test, z_to_test[10])"
   ]
  },
  {
   "cell_type": "code",
   "execution_count": null,
   "metadata": {},
   "outputs": [],
   "source": []
  }
 ],
 "metadata": {
  "hide_input": false,
  "kernelspec": {
   "display_name": "Python 3",
   "language": "python",
   "name": "python3"
  },
  "language_info": {
   "codemirror_mode": {
    "name": "ipython",
    "version": 3
   },
   "file_extension": ".py",
   "mimetype": "text/x-python",
   "name": "python",
   "nbconvert_exporter": "python",
   "pygments_lexer": "ipython3",
   "version": "3.7.6"
  },
  "varInspector": {
   "cols": {
    "lenName": 16,
    "lenType": 16,
    "lenVar": 40
   },
   "kernels_config": {
    "python": {
     "delete_cmd_postfix": "",
     "delete_cmd_prefix": "del ",
     "library": "var_list.py",
     "varRefreshCmd": "print(var_dic_list())"
    },
    "r": {
     "delete_cmd_postfix": ") ",
     "delete_cmd_prefix": "rm(",
     "library": "var_list.r",
     "varRefreshCmd": "cat(var_dic_list()) "
    }
   },
   "types_to_exclude": [
    "module",
    "function",
    "builtin_function_or_method",
    "instance",
    "_Feature"
   ],
   "window_display": false
  }
 },
 "nbformat": 4,
 "nbformat_minor": 4
}
